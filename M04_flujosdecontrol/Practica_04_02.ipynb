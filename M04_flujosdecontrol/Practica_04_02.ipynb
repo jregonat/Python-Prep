{
 "cells": [
  {
   "cell_type": "markdown",
   "metadata": {},
   "source": [
    "1) Crear una variable que contenga un elemento del conjunto de números enteros y luego imprimir por pantalla si es mayor o menor a cero\n",
    "\n"
   ]
  },
  {
   "cell_type": "code",
   "execution_count": 6,
   "metadata": {},
   "outputs": [
    {
     "name": "stdout",
     "output_type": "stream",
     "text": [
      "La variable 0 es igual a cero\n"
     ]
    }
   ],
   "source": [
    "n = 0\n",
    "if type(int(n)) and n > 0:\n",
    "    print(f\"La variable {n} es mayor a cero\")\n",
    "elif n ==0:\n",
    "    print(f\"La variable {n} es igual a cero\")\n",
    "else:\n",
    "    print(f\"La variable {n} es menor a cero\")"
   ]
  },
  {
   "cell_type": "markdown",
   "metadata": {},
   "source": [
    "2) Crear dos variables y un condicional que informe si son del mismo tipo de dato\n",
    "\n"
   ]
  },
  {
   "cell_type": "code",
   "execution_count": 7,
   "metadata": {},
   "outputs": [
    {
     "name": "stdout",
     "output_type": "stream",
     "text": [
      "Las variables 4 y 4 con de distinto tipo de datos\n"
     ]
    }
   ],
   "source": [
    "b = 4\n",
    "c = \"4\"\n",
    "if type(b) == type(c):\n",
    "    print(f\"Las variables {b} y {c} con del mismo tipo de datos\")\n",
    "else:\n",
    "    print(f\"Las variables {b} y {c} con de distinto tipo de datos\")"
   ]
  },
  {
   "cell_type": "markdown",
   "metadata": {},
   "source": [
    "3) Para los valores enteros del 1 al 20, imprimir por pantalla si es par o impar\n",
    "\n"
   ]
  },
  {
   "cell_type": "code",
   "execution_count": 8,
   "metadata": {},
   "outputs": [
    {
     "name": "stdout",
     "output_type": "stream",
     "text": [
      "el número 1 es impar\n",
      "el número 2 es par\n",
      "el número 3 es impar\n",
      "el número 4 es par\n",
      "el número 5 es impar\n",
      "el número 6 es par\n",
      "el número 7 es impar\n",
      "el número 8 es par\n",
      "el número 9 es impar\n",
      "el número 10 es par\n",
      "el número 11 es impar\n",
      "el número 12 es par\n",
      "el número 13 es impar\n",
      "el número 14 es par\n",
      "el número 15 es impar\n",
      "el número 16 es par\n",
      "el número 17 es impar\n",
      "el número 18 es par\n",
      "el número 19 es impar\n",
      "el número 20 es par\n"
     ]
    }
   ],
   "source": [
    "\n",
    "for i in range(1,21):\n",
    "    if i % 2 == 0:\n",
    "        print(f\"el número {i} es par\")\n",
    "    else:\n",
    "        print(f\"el número {i} es impar\")\n",
    "        "
   ]
  },
  {
   "cell_type": "markdown",
   "metadata": {},
   "source": [
    "4) En un ciclo for mostrar para los valores entre 0 y 5 el resultado de elevarlo a la potencia igual a 3\n",
    "\n",
    "\n"
   ]
  },
  {
   "cell_type": "code",
   "execution_count": 3,
   "metadata": {},
   "outputs": [
    {
     "name": "stdout",
     "output_type": "stream",
     "text": [
      "la portencia 0 es 0\n",
      "la portencia 1 es 1\n",
      "la portencia 2 es 8\n",
      "la portencia 3 es 27\n",
      "la portencia 4 es 64\n",
      "la portencia 5 es 125\n"
     ]
    }
   ],
   "source": [
    "\n",
    "for i in range(0,6):\n",
    "    print(f\"la portencia {i} es {i**3}\")"
   ]
  },
  {
   "cell_type": "markdown",
   "metadata": {},
   "source": [
    "5) Crear una variable que contenga un número entero y realizar un ciclo for la misma cantidad de ciclos\n",
    "\n"
   ]
  },
  {
   "cell_type": "code",
   "execution_count": 17,
   "metadata": {},
   "outputs": [
    {
     "name": "stdout",
     "output_type": "stream",
     "text": [
      "el ciclo 0 tiene la misma cantidad de ciclos\n",
      "el ciclo 1 tiene la misma cantidad de ciclos\n",
      "el ciclo 2 tiene la misma cantidad de ciclos\n",
      "el ciclo 3 tiene la misma cantidad de ciclos\n",
      "el ciclo 4 tiene la misma cantidad de ciclos\n",
      "el ciclo 5 tiene la misma cantidad de ciclos\n"
     ]
    }
   ],
   "source": [
    "i=5\n",
    "for i in range(0, i+1):\n",
    "    print(f\"el ciclo {i} tiene la misma cantidad de ciclos\")\n",
    "\n"
   ]
  },
  {
   "cell_type": "markdown",
   "metadata": {},
   "source": [
    "6) Utilizar un ciclo while para realizar el factorial de un número guardado en una variable, sólo si la variable contiene un número entero mayor a 0\n",
    "\n"
   ]
  },
  {
   "cell_type": "code",
   "execution_count": 20,
   "metadata": {},
   "outputs": [
    {
     "name": "stdout",
     "output_type": "stream",
     "text": [
      "el factorial de 4 es 4\n",
      "el factorial de 3 es 12\n",
      "el factorial de 2 es 24\n",
      "el factorial de 1 es 24\n"
     ]
    }
   ],
   "source": [
    "d = 4\n",
    "factorial = 1\n",
    "while d > 0:\n",
    "    factorial = factorial * d\n",
    "    print(f\"el factorial de {d} es {factorial}\")\n",
    "    d -= 1"
   ]
  },
  {
   "cell_type": "markdown",
   "metadata": {},
   "source": [
    "7) Crear un ciclo for dentro de un ciclo while\n",
    "\n"
   ]
  },
  {
   "cell_type": "code",
   "execution_count": 43,
   "metadata": {},
   "outputs": [
    {
     "name": "stdout",
     "output_type": "stream",
     "text": [
      "ciclo While 1\n",
      "ciclo for 1\n",
      "ciclo While 2\n",
      "ciclo for 1\n",
      "ciclo for 2\n",
      "ciclo While 3\n",
      "ciclo for 1\n",
      "ciclo for 2\n",
      "ciclo for 3\n",
      "ciclo While 4\n",
      "ciclo for 1\n",
      "ciclo for 2\n",
      "ciclo for 3\n",
      "ciclo for 4\n"
     ]
    }
   ],
   "source": [
    "n = 1\n",
    "while n < 5:\n",
    "    print(f\"ciclo While {n}\")\n",
    "    for i in range(1,n+1):\n",
    "        print(f\"ciclo for {i}\")\n",
    "    n += 1\n",
    "    \n"
   ]
  },
  {
   "cell_type": "markdown",
   "metadata": {},
   "source": [
    "8) Crear un ciclo while dentro de un ciclo for\n",
    "\n"
   ]
  },
  {
   "cell_type": "code",
   "execution_count": 49,
   "metadata": {},
   "outputs": [
    {
     "name": "stdout",
     "output_type": "stream",
     "text": [
      "ciclo for 1\n",
      "ciclo while 1\n",
      "ciclo while 2\n",
      "ciclo while 3\n",
      "ciclo while 4\n",
      "ciclo for 2\n",
      "ciclo while 1\n",
      "ciclo while 2\n",
      "ciclo while 3\n",
      "ciclo while 4\n",
      "ciclo for 3\n",
      "ciclo while 1\n",
      "ciclo while 2\n",
      "ciclo while 3\n",
      "ciclo while 4\n",
      "ciclo for 4\n",
      "ciclo while 1\n",
      "ciclo while 2\n",
      "ciclo while 3\n",
      "ciclo while 4\n"
     ]
    }
   ],
   "source": [
    "\n",
    "for x in range(1,5):\n",
    "    print(f\"ciclo for {x}\")\n",
    "    n = 1\n",
    "    while n < 5:\n",
    "        print(f\"ciclo while {n}\")\n",
    "        n +=1\n",
    "          "
   ]
  },
  {
   "cell_type": "markdown",
   "metadata": {},
   "source": [
    "9) Imprimir los números primos existentes entre 0 y 30\n",
    "\n"
   ]
  },
  {
   "cell_type": "code",
   "execution_count": 65,
   "metadata": {},
   "outputs": [
    {
     "name": "stdout",
     "output_type": "stream",
     "text": [
      "2 es primo\n",
      "3 es primo\n",
      "5 es primo\n",
      "7 es primo\n",
      "11 es primo\n",
      "13 es primo\n",
      "17 es primo\n",
      "19 es primo\n",
      "23 es primo\n",
      "29 es primo\n"
     ]
    }
   ],
   "source": [
    "primo = True\n",
    "for i in range(2,31):\n",
    "    for x in range(2,i):\n",
    "        if i % x == 0:\n",
    "            primo=False\n",
    "    if primo:\n",
    "        print(f\"{i} es primo\")\n",
    "    else:\n",
    "        primo = True   \n"
   ]
  },
  {
   "cell_type": "code",
   "execution_count": 73,
   "metadata": {},
   "outputs": [
    {
     "name": "stdout",
     "output_type": "stream",
     "text": [
      "2 es primo\n",
      "3 es primo\n",
      "5 es primo\n",
      "7 es primo\n",
      "11 es primo\n",
      "13 es primo\n",
      "17 es primo\n",
      "19 es primo\n",
      "23 es primo\n",
      "29 es primo\n"
     ]
    }
   ],
   "source": [
    "tope = 30\n",
    "n = 2\n",
    "primo = True\n",
    "while n < tope:\n",
    "    for x in range(2,n):\n",
    "        if n % x == 0:\n",
    "            primo = False\n",
    "    if primo:\n",
    "        print(f\"{n} es primo\")\n",
    "    else:\n",
    "        primo = True\n",
    "    n += 1\n",
    "\n",
    "\n",
    "\n"
   ]
  },
  {
   "cell_type": "markdown",
   "metadata": {},
   "source": [
    "10) ¿Se puede mejorar el proceso del punto 9? Utilizar las sentencias break y/ó continue para tal fin\n",
    "\n"
   ]
  },
  {
   "cell_type": "code",
   "execution_count": 74,
   "metadata": {},
   "outputs": [
    {
     "name": "stdout",
     "output_type": "stream",
     "text": [
      "2 es primo\n",
      "3 es primo\n",
      "5 es primo\n",
      "7 es primo\n",
      "11 es primo\n",
      "13 es primo\n",
      "17 es primo\n",
      "19 es primo\n",
      "23 es primo\n",
      "29 es primo\n"
     ]
    }
   ],
   "source": [
    "primo = True\n",
    "for i in range(2,31):\n",
    "    for x in range(2,i):\n",
    "        if i % x == 0:\n",
    "            primo=False\n",
    "            break\n",
    "    if primo:\n",
    "        print(f\"{i} es primo\")\n",
    "    else:\n",
    "        primo = True   \n"
   ]
  },
  {
   "cell_type": "markdown",
   "metadata": {},
   "source": [
    "11) En los puntos 9 y 10, se diseño un código que encuentra números primos y además se lo optimizó. ¿Es posible saber en qué medida se optimizó?\n",
    "\n"
   ]
  },
  {
   "cell_type": "code",
   "execution_count": 83,
   "metadata": {},
   "outputs": [
    {
     "name": "stdout",
     "output_type": "stream",
     "text": [
      "2 es primo\n",
      "3 es primo\n",
      "5 es primo\n",
      "7 es primo\n",
      "11 es primo\n",
      "13 es primo\n",
      "17 es primo\n",
      "19 es primo\n",
      "23 es primo\n",
      "29 es primo\n"
     ]
    },
    {
     "data": {
      "text/plain": [
       "406"
      ]
     },
     "execution_count": 83,
     "metadata": {},
     "output_type": "execute_result"
    }
   ],
   "source": [
    "sin_optimizar = 0\n",
    "primo = True\n",
    "for i in range(2,31):\n",
    "   \n",
    "    for x in range(2,i):\n",
    "        sin_optimizar = sin_optimizar + 1\n",
    "        if i % x == 0:\n",
    "            primo=False\n",
    "    if primo:\n",
    "        print(f\"{i} es primo\")\n",
    "    else:\n",
    "        primo = True   \n",
    "sin_optimizar"
   ]
  },
  {
   "cell_type": "code",
   "execution_count": 84,
   "metadata": {},
   "outputs": [
    {
     "name": "stdout",
     "output_type": "stream",
     "text": [
      "2 es primo\n",
      "3 es primo\n",
      "5 es primo\n",
      "7 es primo\n",
      "11 es primo\n",
      "13 es primo\n",
      "17 es primo\n",
      "19 es primo\n",
      "23 es primo\n",
      "29 es primo\n"
     ]
    },
    {
     "data": {
      "text/plain": [
       "135"
      ]
     },
     "execution_count": 84,
     "metadata": {},
     "output_type": "execute_result"
    }
   ],
   "source": [
    "optimizado = 0\n",
    "primo = True\n",
    "for i in range(2,31):\n",
    "    \n",
    "    for x in range(2,i):\n",
    "        optimizado = optimizado + 1\n",
    "        if i % x == 0:\n",
    "            primo=False\n",
    "            break\n",
    "    if primo:\n",
    "        print(f\"{i} es primo\")\n",
    "    else:\n",
    "        primo = True   \n",
    "optimizado"
   ]
  },
  {
   "cell_type": "code",
   "execution_count": 89,
   "metadata": {},
   "outputs": [
    {
     "name": "stdout",
     "output_type": "stream",
     "text": [
      "33.25 %\n"
     ]
    }
   ],
   "source": [
    "print((round(((optimizado/sin_optimizar)*100),2)),\"%\")"
   ]
  },
  {
   "cell_type": "markdown",
   "metadata": {},
   "source": [
    "12) Aplicando continue, armar un ciclo while que solo imprima los valores divisibles por 12, dentro del rango de números de 100 a 300\n",
    "\n"
   ]
  },
  {
   "cell_type": "code",
   "execution_count": 100,
   "metadata": {},
   "outputs": [
    {
     "name": "stdout",
     "output_type": "stream",
     "text": [
      "108 es divisible por 12\n",
      "120 es divisible por 12\n",
      "132 es divisible por 12\n",
      "144 es divisible por 12\n",
      "156 es divisible por 12\n",
      "168 es divisible por 12\n",
      "180 es divisible por 12\n",
      "192 es divisible por 12\n",
      "204 es divisible por 12\n",
      "216 es divisible por 12\n",
      "228 es divisible por 12\n",
      "240 es divisible por 12\n",
      "252 es divisible por 12\n",
      "264 es divisible por 12\n",
      "276 es divisible por 12\n",
      "288 es divisible por 12\n",
      "300 es divisible por 12\n"
     ]
    }
   ],
   "source": [
    "\n",
    "tope = 300\n",
    "a = 100\n",
    "while a <= tope:\n",
    "   \n",
    "    if a % 12 == 0:\n",
    "        print(f\"{a} es divisible por 12\")\n",
    "    a += 1 \n"
   ]
  },
  {
   "cell_type": "code",
   "execution_count": 102,
   "metadata": {},
   "outputs": [
    {
     "name": "stdout",
     "output_type": "stream",
     "text": [
      "108 es divisible por 12\n",
      "120 es divisible por 12\n",
      "132 es divisible por 12\n",
      "144 es divisible por 12\n",
      "156 es divisible por 12\n",
      "168 es divisible por 12\n",
      "180 es divisible por 12\n",
      "192 es divisible por 12\n",
      "204 es divisible por 12\n",
      "216 es divisible por 12\n",
      "228 es divisible por 12\n",
      "240 es divisible por 12\n",
      "252 es divisible por 12\n",
      "264 es divisible por 12\n",
      "276 es divisible por 12\n",
      "288 es divisible por 12\n",
      "300 es divisible por 12\n"
     ]
    }
   ],
   "source": [
    "\n",
    "tope = 300\n",
    "a = 100\n",
    "while a <= tope:\n",
    "    \n",
    "    a += 1 \n",
    "    if a % 12 != 0:\n",
    "        continue\n",
    "    print(f\"{a} es divisible por 12\")\n",
    "       \n"
   ]
  },
  {
   "cell_type": "markdown",
   "metadata": {},
   "source": [
    "13) Utilizar la función **input()** que permite hacer ingresos por teclado, para encontrar números primos y dar la opción al usario de buscar el siguiente\n",
    "\n"
   ]
  },
  {
   "cell_type": "code",
   "execution_count": 108,
   "metadata": {},
   "outputs": [
    {
     "name": "stdout",
     "output_type": "stream",
     "text": [
      "2 es primo\n",
      "quieres seguir buscando otro primo?\n",
      "3 es primo\n",
      "quieres seguir buscando otro primo?\n",
      "5 es primo\n",
      "quieres seguir buscando otro primo?\n",
      "7 es primo\n",
      "quieres seguir buscando otro primo?\n",
      "Finaliza\n"
     ]
    }
   ],
   "source": [
    "a = 2\n",
    "primo = True\n",
    "while True: \n",
    "    for x in range(2,a):\n",
    "        if a % x == 0:\n",
    "            primo=False\n",
    "            break\n",
    "    if primo:\n",
    "        print(f\"{a} es primo\")\n",
    "        print(f\"quieres seguir buscando otro primo?\")\n",
    "        if (input()!= \"Y\"):\n",
    "            print(f\"Finaliza\")\n",
    "            break\n",
    "\n",
    "    else:\n",
    "        primo = True   \n",
    "    a += 1"
   ]
  },
  {
   "cell_type": "markdown",
   "metadata": {},
   "source": [
    "14) Crear un ciclo while que encuentre dentro del rango de 100 a 300 el primer número divisible por 3 y además múltiplo de 6"
   ]
  },
  {
   "cell_type": "code",
   "execution_count": 110,
   "metadata": {},
   "outputs": [
    {
     "name": "stdout",
     "output_type": "stream",
     "text": [
      "102 es divisible por 3 y multiplo de 6\n"
     ]
    }
   ],
   "source": [
    "tope = 300\n",
    "a = 100\n",
    "while a <= tope:\n",
    "   \n",
    "    if a % 6 == 0:\n",
    "        print(f\"{a} es divisible por 3 y multiplo de 6\")\n",
    "        break\n",
    "    a += 1 "
   ]
  }
 ],
 "metadata": {
  "kernelspec": {
   "display_name": "Python 3",
   "language": "python",
   "name": "python3"
  },
  "language_info": {
   "codemirror_mode": {
    "name": "ipython",
    "version": 3
   },
   "file_extension": ".py",
   "mimetype": "text/x-python",
   "name": "python",
   "nbconvert_exporter": "python",
   "pygments_lexer": "ipython3",
   "version": "3.10.11"
  },
  "orig_nbformat": 4
 },
 "nbformat": 4,
 "nbformat_minor": 2
}
