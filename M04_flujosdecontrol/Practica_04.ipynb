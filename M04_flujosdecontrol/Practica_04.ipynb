{
 "cells": [
  {
   "cell_type": "markdown",
   "metadata": {},
   "source": [
    "1) Crear una variable que contenga un elemento del conjunto de números enteros y luego imprimir por pantalla si es mayor o menor a cero\n",
    "\n"
   ]
  },
  {
   "cell_type": "code",
   "execution_count": 18,
   "metadata": {},
   "outputs": [
    {
     "name": "stdout",
     "output_type": "stream",
     "text": [
      "20 Es mayor\n"
     ]
    }
   ],
   "source": [
    "n = 20\n",
    "if n > 18:\n",
    "    print(f\"{n} Es mayor\")\n",
    "elif n < 18:\n",
    "    print(f\"{n} Es menor\")\n",
    "else:\n",
    "    print(f\"{n} Es igual\")"
   ]
  },
  {
   "cell_type": "markdown",
   "metadata": {},
   "source": [
    "2) Crear dos variables y un condicional que informe si son del mismo tipo de dato\n",
    "\n"
   ]
  },
  {
   "cell_type": "code",
   "execution_count": 19,
   "metadata": {},
   "outputs": [
    {
     "name": "stdout",
     "output_type": "stream",
     "text": [
      "la variable 5 y la vaiable 5 son de distinto tipo de datos\n"
     ]
    }
   ],
   "source": [
    "a = 5\n",
    "b = \"5\"\n",
    "if type(a) == type(b):\n",
    "    print(f\"la variable {a} y la variabe {b} son del mismo tipo de datos\")\n",
    "else:\n",
    "    print(f\"la variable {a} y la vaiable {b} son de distinto tipo de datos\")"
   ]
  },
  {
   "cell_type": "markdown",
   "metadata": {},
   "source": [
    "3) Para los valores enteros del 1 al 20, imprimir por pantalla si es par o impar\n"
   ]
  },
  {
   "cell_type": "code",
   "execution_count": 20,
   "metadata": {},
   "outputs": [
    {
     "name": "stdout",
     "output_type": "stream",
     "text": [
      "El número 1 es impar\n",
      "El número 2 es par\n",
      "El número 3 es impar\n",
      "El número 4 es par\n",
      "El número 5 es impar\n",
      "El número 6 es par\n",
      "El número 7 es impar\n",
      "El número 8 es par\n",
      "El número 9 es impar\n",
      "El número 10 es par\n",
      "El número 11 es impar\n",
      "El número 12 es par\n",
      "El número 13 es impar\n",
      "El número 14 es par\n",
      "El número 15 es impar\n",
      "El número 16 es par\n",
      "El número 17 es impar\n",
      "El número 18 es par\n",
      "El número 19 es impar\n",
      "El número 20 es par\n"
     ]
    }
   ],
   "source": [
    "\n",
    "for i in range(1,21):\n",
    "    if i % 2 == 0:\n",
    "        print(f\"El número {i} es par\")\n",
    "    else:\n",
    "        print(f\"El número {i} es impar\")\n"
   ]
  },
  {
   "cell_type": "code",
   "execution_count": 21,
   "metadata": {},
   "outputs": [
    {
     "name": "stdout",
     "output_type": "stream",
     "text": [
      "El número 1 es impar\n",
      "El número 2 es par\n",
      "El número 3 es impar\n",
      "El número 4 es par\n",
      "El número 5 es impar\n",
      "El número 6 es par\n",
      "El número 7 es impar\n",
      "El número 8 es par\n",
      "El número 9 es impar\n",
      "El número 10 es par\n",
      "El número 11 es impar\n",
      "El número 12 es par\n",
      "El número 13 es impar\n",
      "El número 14 es par\n",
      "El número 15 es impar\n",
      "El número 16 es par\n",
      "El número 17 es impar\n",
      "El número 18 es par\n",
      "El número 19 es impar\n",
      "El número 20 es par\n"
     ]
    }
   ],
   "source": [
    "num = 1\n",
    "while num <= 20:\n",
    "    if num % 2 == 0:\n",
    "        print(f\"El número {num} es par\")\n",
    "    else:\n",
    "        print(f\"El número {num} es impar\")\n",
    "    num +=1\n"
   ]
  },
  {
   "cell_type": "markdown",
   "metadata": {},
   "source": [
    "\n",
    "4) En un ciclo for mostrar para los valores entre 0 y 5 el resultado de elevarlo a la potencia igual a 3\n",
    "\n"
   ]
  },
  {
   "cell_type": "code",
   "execution_count": 25,
   "metadata": {},
   "outputs": [
    {
     "name": "stdout",
     "output_type": "stream",
     "text": [
      " Para el valor 0 el resultado es 0\n",
      " Para el valor 1 el resultado es 1\n",
      " Para el valor 2 el resultado es 8\n",
      " Para el valor 3 el resultado es 27\n",
      " Para el valor 4 el resultado es 64\n",
      " Para el valor 5 el resultado es 125\n"
     ]
    }
   ],
   "source": [
    "for i in range(0,6):\n",
    "    \n",
    "    print(f\" Para el valor {i} el resultado es {i**3}\")"
   ]
  },
  {
   "cell_type": "code",
   "execution_count": 26,
   "metadata": {},
   "outputs": [
    {
     "name": "stdout",
     "output_type": "stream",
     "text": [
      " Para el valor 0 el resultado es 0\n",
      " Para el valor 1 el resultado es 1\n",
      " Para el valor 2 el resultado es 8\n",
      " Para el valor 3 el resultado es 27\n",
      " Para el valor 4 el resultado es 64\n",
      " Para el valor 5 el resultado es 125\n"
     ]
    }
   ],
   "source": [
    "for i in range(0,6):\n",
    "    n = i**3\n",
    "    print(f\" Para el valor {i} el resultado es {n}\")"
   ]
  },
  {
   "cell_type": "code",
   "execution_count": 29,
   "metadata": {},
   "outputs": [
    {
     "name": "stdout",
     "output_type": "stream",
     "text": [
      " Para el valor 0 el resultado es 0\n",
      " Para el valor 1 el resultado es 1\n",
      " Para el valor 2 el resultado es 8\n",
      " Para el valor 3 el resultado es 27\n",
      " Para el valor 4 el resultado es 64\n",
      " Para el valor 5 el resultado es 125\n"
     ]
    }
   ],
   "source": [
    "n = 0\n",
    "while n <= 5:\n",
    "    potencia = n**3\n",
    "    print(f\" Para el valor {n} el resultado es {potencia}\")\n",
    "    n += 1"
   ]
  },
  {
   "cell_type": "markdown",
   "metadata": {},
   "source": [
    "5) Crear una variable que contenga un número entero y realizar un ciclo for la misma cantidad de ciclos\n",
    "\n",
    "\n"
   ]
  },
  {
   "cell_type": "code",
   "execution_count": 34,
   "metadata": {},
   "outputs": [
    {
     "name": "stdout",
     "output_type": "stream",
     "text": [
      "El número 1 entero tiene la misma cantidad de ciclos\n",
      "El número 2 entero tiene la misma cantidad de ciclos\n",
      "El número 3 entero tiene la misma cantidad de ciclos\n",
      "El número 4 entero tiene la misma cantidad de ciclos\n",
      "El número 5 entero tiene la misma cantidad de ciclos\n",
      "El número 6 entero tiene la misma cantidad de ciclos\n"
     ]
    }
   ],
   "source": [
    "i = 6\n",
    "for i in range(1, i+1):\n",
    "    print(f\"El número {i} entero tiene la misma cantidad de ciclos\")\n"
   ]
  },
  {
   "cell_type": "markdown",
   "metadata": {},
   "source": [
    "6) Utilizar un ciclo while para realizar el factorial de un número guardado en una variable, sólo si la variable contiene un número entero mayor a 0\n",
    "\n"
   ]
  },
  {
   "cell_type": "code",
   "execution_count": 45,
   "metadata": {},
   "outputs": [
    {
     "name": "stdout",
     "output_type": "stream",
     "text": [
      "el número 120 es el factorial\n"
     ]
    }
   ],
   "source": [
    "n = 5\n",
    "factorial = 1\n",
    "if type(n) == int and n > 0:\n",
    "    while n >= 1:\n",
    "        factorial = factorial * n\n",
    "        n -= 1\n",
    "    print(f\"el número {factorial} es el factorial\")\n",
    "else:\n",
    "    print(f\"el número {factorial} no es el factorial\")\n",
    "   \n",
    "\n",
    "    "
   ]
  },
  {
   "cell_type": "markdown",
   "metadata": {},
   "source": [
    "7) Crear un ciclo for dentro de un ciclo while\n",
    "\n"
   ]
  },
  {
   "cell_type": "code",
   "execution_count": 52,
   "metadata": {},
   "outputs": [
    {
     "name": "stdout",
     "output_type": "stream",
     "text": [
      "Este es el ciclo while 1\n",
      "Este es el ciclo for 1\n",
      "Este es el ciclo while 2\n",
      "Este es el ciclo for 1\n",
      "Este es el ciclo for 2\n",
      "Este es el ciclo while 3\n",
      "Este es el ciclo for 1\n",
      "Este es el ciclo for 2\n",
      "Este es el ciclo for 3\n",
      "Este es el ciclo while 4\n",
      "Este es el ciclo for 1\n",
      "Este es el ciclo for 2\n",
      "Este es el ciclo for 3\n",
      "Este es el ciclo for 4\n",
      "Este es el ciclo while 5\n",
      "Este es el ciclo for 1\n",
      "Este es el ciclo for 2\n",
      "Este es el ciclo for 3\n",
      "Este es el ciclo for 4\n",
      "Este es el ciclo for 5\n"
     ]
    }
   ],
   "source": [
    "n = 1\n",
    "while n < 6:\n",
    "    print(f\"Este es el ciclo while {n}\")\n",
    "    for i in range(1,n+1): # no toma el último número, por eso se suma 1.\n",
    "        print(f\"Este es el ciclo for {i}\")\n",
    "    n +=1"
   ]
  },
  {
   "cell_type": "markdown",
   "metadata": {},
   "source": [
    "8) Crear un ciclo while dentro de un ciclo for\n",
    "\n"
   ]
  },
  {
   "cell_type": "code",
   "execution_count": 56,
   "metadata": {},
   "outputs": [
    {
     "name": "stdout",
     "output_type": "stream",
     "text": [
      "Este es el ciclo For 0\n",
      "Este es el ciclo while 1\n",
      "Este es el ciclo while 2\n",
      "Este es el ciclo while 3\n",
      "Este es el ciclo while 4\n",
      "Este es el ciclo For 1\n",
      "Este es el ciclo while 1\n",
      "Este es el ciclo while 2\n",
      "Este es el ciclo while 3\n",
      "Este es el ciclo while 4\n",
      "Este es el ciclo For 2\n",
      "Este es el ciclo while 1\n",
      "Este es el ciclo while 2\n",
      "Este es el ciclo while 3\n",
      "Este es el ciclo while 4\n",
      "Este es el ciclo For 3\n",
      "Este es el ciclo while 1\n",
      "Este es el ciclo while 2\n",
      "Este es el ciclo while 3\n",
      "Este es el ciclo while 4\n"
     ]
    }
   ],
   "source": [
    "num = 4 # variable que cuenta los ciclos que hace for\n",
    "for a in range(num):\n",
    "    print(f\"Este es el ciclo For {a}\")\n",
    "    c = 1 # contador While\n",
    "    l = 5 # límite de While\n",
    "    while c < l:\n",
    "        print(f\"Este es el ciclo while {c}\")\n",
    "        c += 1\n"
   ]
  },
  {
   "cell_type": "code",
   "execution_count": 1,
   "metadata": {},
   "outputs": [
    {
     "name": "stdout",
     "output_type": "stream",
     "text": [
      "Este es el ciclo For 1\n",
      "Este es el ciclo While 1\n",
      "Este es el ciclo For 2\n",
      "Este es el ciclo While 2\n",
      "Este es el ciclo While 1\n",
      "Este es el ciclo For 3\n",
      "Este es el ciclo While 3\n",
      "Este es el ciclo While 2\n",
      "Este es el ciclo While 1\n"
     ]
    }
   ],
   "source": [
    "num = 4 # variable que cuenta los ciclos que hace for\n",
    "for a in range(1,num):\n",
    "    print(f\"Este es el ciclo For {a}\")\n",
    "    b = a\n",
    "    while b > 0:\n",
    "        print(f\"Este es el ciclo While {b}\")\n",
    "        b -= 1\n",
    "\n",
    "   "
   ]
  },
  {
   "cell_type": "markdown",
   "metadata": {},
   "source": [
    "9) Imprimir los números primos existentes entre 0 y 30\n",
    "\n"
   ]
  },
  {
   "cell_type": "code",
   "execution_count": 57,
   "metadata": {},
   "outputs": [
    {
     "name": "stdout",
     "output_type": "stream",
     "text": [
      "2 es primo\n",
      "3 es primo\n",
      "5 es primo\n",
      "7 es primo\n",
      "11 es primo\n",
      "13 es primo\n",
      "17 es primo\n",
      "19 es primo\n",
      "23 es primo\n",
      "29 es primo\n"
     ]
    }
   ],
   "source": [
    "primo = True\n",
    "for i in range(2,31):\n",
    "    for x in range(2,i):\n",
    "        if i % x == 0:\n",
    "            primo = False\n",
    "    if primo:\n",
    "        print(f\"{i} es primo\")\n",
    "    else:\n",
    "        primo = True"
   ]
  },
  {
   "cell_type": "code",
   "execution_count": 70,
   "metadata": {},
   "outputs": [
    {
     "name": "stdout",
     "output_type": "stream",
     "text": [
      "son primos entre 0 y 30 el número 2\n",
      "son primos entre 0 y 30 el número 3\n",
      "son primos entre 0 y 30 el número 5\n",
      "son primos entre 0 y 30 el número 7\n",
      "son primos entre 0 y 30 el número 11\n",
      "son primos entre 0 y 30 el número 13\n",
      "son primos entre 0 y 30 el número 17\n",
      "son primos entre 0 y 30 el número 19\n",
      "son primos entre 0 y 30 el número 23\n",
      "son primos entre 0 y 30 el número 29\n"
     ]
    }
   ],
   "source": [
    "tope = 30\n",
    "n = 2\n",
    "primo = True\n",
    "while n < tope:\n",
    "    for div in range(2,n):\n",
    "        if n % div == 0:\n",
    "            primo = False\n",
    "    if primo:\n",
    "        print(f\"son primos entre 0 y 30 el número {n}\")\n",
    "    else:\n",
    "        primo = True\n",
    "    n += 1\n",
    "\n"
   ]
  },
  {
   "cell_type": "code",
   "execution_count": 59,
   "metadata": {},
   "outputs": [
    {
     "name": "stdout",
     "output_type": "stream",
     "text": [
      "Números primos entre 0 y 30: [2, 3, 5, 7, 11, 13, 17, 19, 23, 29]\n"
     ]
    }
   ],
   "source": [
    "numeros_primos = []\n",
    "\n",
    "for numero in range(2, 31):\n",
    "    es_primo = True\n",
    "    divisor = 2\n",
    "\n",
    "    while divisor * divisor <= numero:\n",
    "        if numero % divisor == 0:\n",
    "            es_primo = False\n",
    "            break\n",
    "\n",
    "        divisor += 1\n",
    "\n",
    "    if es_primo:\n",
    "        numeros_primos.append(numero)\n",
    "\n",
    "print(\"Números primos entre 0 y 30:\", numeros_primos)"
   ]
  },
  {
   "cell_type": "code",
   "execution_count": 3,
   "metadata": {},
   "outputs": [
    {
     "name": "stdout",
     "output_type": "stream",
     "text": [
      "2\n",
      "3\n",
      "4\n",
      "5\n",
      "6\n",
      "7\n",
      "8\n",
      "9\n",
      "10\n",
      "11\n",
      "12\n",
      "13\n",
      "14\n",
      "15\n",
      "16\n",
      "17\n",
      "18\n",
      "19\n",
      "20\n",
      "21\n",
      "22\n",
      "23\n",
      "24\n",
      "25\n",
      "26\n",
      "27\n",
      "28\n",
      "29\n",
      "30\n"
     ]
    }
   ],
   "source": [
    "for i in range(2,31):\n",
    "    print(i)\n"
   ]
  },
  {
   "cell_type": "markdown",
   "metadata": {},
   "source": [
    "10) ¿Se puede mejorar el proceso del punto 9? Utilizar las sentencias break y/ó continue para tal fin\n",
    "\n"
   ]
  },
  {
   "cell_type": "code",
   "execution_count": 1,
   "metadata": {},
   "outputs": [
    {
     "name": "stdout",
     "output_type": "stream",
     "text": [
      "2 es primo\n",
      "3 es primo\n",
      "5 es primo\n",
      "7 es primo\n",
      "11 es primo\n",
      "13 es primo\n",
      "17 es primo\n",
      "19 es primo\n",
      "23 es primo\n",
      "29 es primo\n"
     ]
    }
   ],
   "source": [
    "\n",
    "primo = True\n",
    "for i in range(2,31):\n",
    "    for x in range(2,i):\n",
    "        \n",
    "        if i % x == 0:\n",
    "            \n",
    "            primo = False\n",
    "    if primo:\n",
    "        print(f\"{i} es primo\")\n",
    "    else:\n",
    "        primo = True\n"
   ]
  },
  {
   "cell_type": "code",
   "execution_count": 2,
   "metadata": {},
   "outputs": [
    {
     "name": "stdout",
     "output_type": "stream",
     "text": [
      "2 es primo\n",
      "3 es primo\n",
      "5 es primo\n",
      "7 es primo\n",
      "11 es primo\n",
      "13 es primo\n",
      "17 es primo\n",
      "19 es primo\n",
      "23 es primo\n",
      "29 es primo\n"
     ]
    }
   ],
   "source": [
    "\n",
    "primo = True\n",
    "for i in range(2,31):\n",
    "    for x in range(2,i):\n",
    "        \n",
    "        if i % x == 0:\n",
    "           \n",
    "            primo = False\n",
    "            break\n",
    "    if primo:\n",
    "        print(f\"{i} es primo\")\n",
    "    else:\n",
    "        primo = True\n"
   ]
  },
  {
   "cell_type": "markdown",
   "metadata": {},
   "source": [
    "11) En los puntos 9 y 10, se diseño un código que encuentra números primos y además se lo optimizó. ¿Es posible saber en qué medida se optimizó?\n",
    "\n"
   ]
  },
  {
   "cell_type": "code",
   "execution_count": 3,
   "metadata": {},
   "outputs": [
    {
     "name": "stdout",
     "output_type": "stream",
     "text": [
      "2 es primo\n",
      "3 es primo\n",
      "5 es primo\n",
      "7 es primo\n",
      "11 es primo\n",
      "13 es primo\n",
      "17 es primo\n",
      "19 es primo\n",
      "23 es primo\n",
      "29 es primo\n"
     ]
    },
    {
     "data": {
      "text/plain": [
       "406"
      ]
     },
     "execution_count": 3,
     "metadata": {},
     "output_type": "execute_result"
    }
   ],
   "source": [
    "ciclos_sin_break = 0\n",
    "primo = True\n",
    "for i in range(2,31):\n",
    "    for x in range(2,i):\n",
    "        ciclos_sin_break = ciclos_sin_break + 1\n",
    "        if i % x == 0:\n",
    "            \n",
    "            primo = False\n",
    "    if primo:\n",
    "        print(f\"{i} es primo\")\n",
    "    else:\n",
    "        primo = True\n",
    "ciclos_sin_break   "
   ]
  },
  {
   "cell_type": "code",
   "execution_count": 4,
   "metadata": {},
   "outputs": [
    {
     "name": "stdout",
     "output_type": "stream",
     "text": [
      "2 es primo\n",
      "3 es primo\n",
      "5 es primo\n",
      "7 es primo\n",
      "11 es primo\n",
      "13 es primo\n",
      "17 es primo\n",
      "19 es primo\n",
      "23 es primo\n",
      "29 es primo\n"
     ]
    },
    {
     "data": {
      "text/plain": [
       "135"
      ]
     },
     "execution_count": 4,
     "metadata": {},
     "output_type": "execute_result"
    }
   ],
   "source": [
    "ciclos_con_break = 0\n",
    "primo = True\n",
    "for i in range(2,31):\n",
    "    for x in range(2,i):\n",
    "        ciclos_con_break = ciclos_con_break + 1\n",
    "        if i % x == 0:\n",
    "           \n",
    "            primo = False\n",
    "            break\n",
    "    if primo:\n",
    "        print(f\"{i} es primo\")\n",
    "    else:\n",
    "        primo = True\n",
    "ciclos_con_break"
   ]
  },
  {
   "cell_type": "code",
   "execution_count": 5,
   "metadata": {},
   "outputs": [
    {
     "name": "stdout",
     "output_type": "stream",
     "text": [
      " Porcentaje de disminución 33.25 %\n"
     ]
    }
   ],
   "source": [
    "print(f\" Porcentaje de disminución {round((ciclos_con_break / ciclos_sin_break)*100,2)} %\")"
   ]
  },
  {
   "cell_type": "markdown",
   "metadata": {},
   "source": [
    "12) Aplicando continue, armar un ciclo while que solo imprima los valores divisibles por 12, dentro del rango de números de 100 a 300\n",
    "\n"
   ]
  },
  {
   "cell_type": "code",
   "execution_count": 2,
   "metadata": {},
   "outputs": [
    {
     "name": "stdout",
     "output_type": "stream",
     "text": [
      "108\n",
      "120\n",
      "132\n",
      "144\n",
      "156\n",
      "168\n",
      "180\n",
      "192\n",
      "204\n",
      "216\n",
      "228\n",
      "240\n",
      "252\n",
      "264\n",
      "276\n",
      "288\n",
      "300\n"
     ]
    }
   ],
   "source": [
    "tope = 300\n",
    "n = 99\n",
    "while n <= tope:\n",
    "    n +=1\n",
    "    if n % 12 != 0:\n",
    "        continue\n",
    "    print (n)\n",
    "\n",
    "    "
   ]
  },
  {
   "cell_type": "markdown",
   "metadata": {},
   "source": [
    "13) Utilizar la función **input()** que permite hacer ingresos por teclado, para encontrar números primos y dar la opción al usario de buscar el siguiente\n",
    "\n"
   ]
  },
  {
   "cell_type": "code",
   "execution_count": 2,
   "metadata": {},
   "outputs": [
    {
     "name": "stdout",
     "output_type": "stream",
     "text": [
      "2 es primo\n",
      "quieres buscar el siguiente\n",
      "3 es primo\n",
      "quieres buscar el siguiente\n",
      "5 es primo\n",
      "quieres buscar el siguiente\n",
      "7 es primo\n",
      "quieres buscar el siguiente\n",
      "se finaliza\n"
     ]
    }
   ],
   "source": [
    "n = 2\n",
    "primo = True\n",
    "\n",
    "while True:\n",
    "    for x in range(2,n):\n",
    "        if n % x == 0:\n",
    "            primo = False\n",
    "            break\n",
    "    if primo:\n",
    "        print(f\"{n} es primo\")\n",
    "        print(\"quieres buscar el siguiente\")\n",
    "        if (input()!= \"Y\"):\n",
    "            print(\"se finaliza\")\n",
    "            break\n",
    "    else:\n",
    "        primo = True\n",
    "    n += 1"
   ]
  },
  {
   "cell_type": "markdown",
   "metadata": {},
   "source": [
    "14) Crear un ciclo while que encuentre dentro del rango de 100 a 300 el primer número divisible por 3 y además múltiplo de 6"
   ]
  },
  {
   "cell_type": "code",
   "execution_count": 10,
   "metadata": {},
   "outputs": [
    {
     "name": "stdout",
     "output_type": "stream",
     "text": [
      "102\n"
     ]
    }
   ],
   "source": [
    "tope = 300\n",
    "n = 100\n",
    "while n <= tope:\n",
    "    n +=1\n",
    "    if n % 6 == 0:\n",
    "        print (n)\n",
    "        break"
   ]
  }
 ],
 "metadata": {
  "kernelspec": {
   "display_name": "Python 3",
   "language": "python",
   "name": "python3"
  },
  "language_info": {
   "codemirror_mode": {
    "name": "ipython",
    "version": 3
   },
   "file_extension": ".py",
   "mimetype": "text/x-python",
   "name": "python",
   "nbconvert_exporter": "python",
   "pygments_lexer": "ipython3",
   "version": "3.10.11"
  },
  "orig_nbformat": 4
 },
 "nbformat": 4,
 "nbformat_minor": 2
}
