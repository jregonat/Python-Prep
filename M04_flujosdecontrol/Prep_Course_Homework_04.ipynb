{
 "cells": [
  {
   "attachments": {},
   "cell_type": "markdown",
   "metadata": {},
   "source": [
    "## Flujos de Control"
   ]
  },
  {
   "attachments": {},
   "cell_type": "markdown",
   "metadata": {},
   "source": [
    "1) Crear una variable que contenga un elemento del conjunto de números enteros y luego imprimir por pantalla si es mayor o menor a cero"
   ]
  },
  {
   "cell_type": "code",
   "execution_count": 7,
   "metadata": {},
   "outputs": [
    {
     "name": "stdout",
     "output_type": "stream",
     "text": [
      "La variable 8 es mayor a cero\n"
     ]
    }
   ],
   "source": [
    "a = 8 # condicionales\n",
    "if (a < 0):\n",
    "    print(f\"La variable {a} es menor a cero\")\n",
    "elif (a > 0):\n",
    "    print(f\"La variable {a} es mayor a cero\")\n",
    "else:\n",
    "    print(f\"La variable {a} es igual a cero\")"
   ]
  },
  {
   "cell_type": "code",
   "execution_count": 1,
   "metadata": {},
   "outputs": [
    {
     "name": "stdout",
     "output_type": "stream",
     "text": [
      "La variable 0 es igual a cero\n"
     ]
    }
   ],
   "source": [
    "a = 0 # condicionales\n",
    "if (a < 0):\n",
    "    print(f\"La variable {a} es menor a cero\")\n",
    "elif (a > 0):\n",
    "    print(f\"La variable {a} es mayor a cero\")\n",
    "else:\n",
    "    print(f\"La variable {a} es igual a cero\")"
   ]
  },
  {
   "cell_type": "code",
   "execution_count": 30,
   "metadata": {},
   "outputs": [
    {
     "name": "stdout",
     "output_type": "stream",
     "text": [
      "5 es mayor a cero\n"
     ]
    }
   ],
   "source": [
    "a = 5\n",
    "if (a > 0):\n",
    "    print(a, \"es mayor a cero\")\n",
    "elif (a < 0):\n",
    "    print(a, \"es menor a cero\")\n",
    "else:\n",
    "    print(a, \"es igual a cero\")"
   ]
  },
  {
   "cell_type": "code",
   "execution_count": 13,
   "metadata": {},
   "outputs": [
    {
     "name": "stdout",
     "output_type": "stream",
     "text": [
      "La variable 2 no pertenece a los enteros\n"
     ]
    }
   ],
   "source": [
    "a = \"2\"\n",
    "if type(a) == int:\n",
    "    if (a > 0):\n",
    "        print(f\"La variable {a} es mayor a cero\")\n",
    "    elif (a > 0):\n",
    "        print(f\"La variable {a} es menor a cero\")\n",
    "    else:\n",
    "        print(f\"La variable {a} es igual a cero\")\n",
    "else:\n",
    "    print(f\"La variable {a} no pertenece a los enteros\")"
   ]
  },
  {
   "attachments": {},
   "cell_type": "markdown",
   "metadata": {},
   "source": [
    "2) Crear dos variables y un condicional que informe si son del mismo tipo de dato"
   ]
  },
  {
   "cell_type": "code",
   "execution_count": 9,
   "metadata": {},
   "outputs": [
    {
     "name": "stdout",
     "output_type": "stream",
     "text": [
      "Las variables 3 y hello son de tipos de datos diferentes\n"
     ]
    }
   ],
   "source": [
    "a = 3 # condicionales\n",
    "b = \"hello\"\n",
    "if type(a) == type(b):\n",
    "    print(f\"Las variables {a} y {b} son del mismo tipo de datos\")\n",
    "else:\n",
    "    print(f\"Las variables {a} y {b} son de tipos de datos diferentes\")"
   ]
  },
  {
   "cell_type": "code",
   "execution_count": 2,
   "metadata": {},
   "outputs": [
    {
     "name": "stdout",
     "output_type": "stream",
     "text": [
      "Las variables hola y hello son del mismo tipo de datos\n"
     ]
    }
   ],
   "source": [
    "a = \"hola\" # condicionales\n",
    "b = \"hello\"\n",
    "if type(a) == type(b):\n",
    "    print(f\"Las variables {a} y {b} son del mismo tipo de datos\")\n",
    "else:\n",
    "    print(f\"Las variables {a} y {b} son de tipos de datos diferentes\")"
   ]
  },
  {
   "attachments": {},
   "cell_type": "markdown",
   "metadata": {},
   "source": [
    "3) Para los valores enteros del 1 al 20, imprimir por pantalla si es par o impar"
   ]
  },
  {
   "cell_type": "code",
   "execution_count": 10,
   "metadata": {},
   "outputs": [
    {
     "name": "stdout",
     "output_type": "stream",
     "text": [
      "El número 1 es impar\n",
      "El número 2 es par\n",
      "El número 3 es impar\n",
      "El número 4 es par\n",
      "El número 5 es impar\n",
      "El número 6 es par\n",
      "El número 7 es impar\n",
      "El número 8 es par\n",
      "El número 9 es impar\n",
      "El número 10 es par\n",
      "El número 11 es impar\n",
      "El número 12 es par\n",
      "El número 13 es impar\n",
      "El número 14 es par\n",
      "El número 15 es impar\n",
      "El número 16 es par\n",
      "El número 17 es impar\n",
      "El número 18 es par\n",
      "El número 19 es impar\n",
      "El número 20 es par\n"
     ]
    }
   ],
   "source": [
    "for i in range(1,21): # bucle for\n",
    "    resto = i % 2\n",
    "    if resto == 0:\n",
    "        print(f\"El número {i} es par\")\n",
    "    else:\n",
    "        print(f\"El número {i} es impar\")"
   ]
  },
  {
   "cell_type": "code",
   "execution_count": 2,
   "metadata": {},
   "outputs": [
    {
     "name": "stdout",
     "output_type": "stream",
     "text": [
      "el numero 1 es impar\n",
      "el numero 2 es par\n",
      "el numero 3 es impar\n",
      "el numero 4 es par\n",
      "el numero 5 es impar\n",
      "el numero 6 es par\n",
      "el numero 7 es impar\n",
      "el numero 8 es par\n",
      "el numero 9 es impar\n",
      "el numero 10 es par\n",
      "el numero 11 es impar\n",
      "el numero 12 es par\n",
      "el numero 13 es impar\n",
      "el numero 14 es par\n",
      "el numero 15 es impar\n",
      "el numero 16 es par\n",
      "el numero 17 es impar\n",
      "el numero 18 es par\n",
      "el numero 19 es impar\n",
      "el numero 20 es par\n"
     ]
    }
   ],
   "source": [
    "for i in range(1, 21):\n",
    "    resto = i % 2\n",
    "    if resto == 0:\n",
    "        print(f\"el numero {i} es par\")\n",
    "    else:\n",
    "        print(f\"el numero {i} es impar\")\n",
    "\n"
   ]
  },
  {
   "attachments": {},
   "cell_type": "markdown",
   "metadata": {},
   "source": [
    "4) En un ciclo for mostrar para los valores entre 0 y 5 el resultado de elevarlo a la potencia igual a 3"
   ]
  },
  {
   "cell_type": "code",
   "execution_count": 12,
   "metadata": {},
   "outputs": [
    {
     "name": "stdout",
     "output_type": "stream",
     "text": [
      "El valor de 0 elevado a la 3ra potencia es: 0\n",
      "El valor de 1 elevado a la 3ra potencia es: 1\n",
      "El valor de 2 elevado a la 3ra potencia es: 8\n",
      "El valor de 3 elevado a la 3ra potencia es: 27\n",
      "El valor de 4 elevado a la 3ra potencia es: 64\n",
      "El valor de 5 elevado a la 3ra potencia es: 125\n"
     ]
    }
   ],
   "source": [
    "for num in range(0,6): # bucle for con rango\n",
    "    potencia = num **3\n",
    "    print(f\"El valor de {num} elevado a la 3ra potencia es: {potencia}\")\n"
   ]
  },
  {
   "cell_type": "code",
   "execution_count": 7,
   "metadata": {},
   "outputs": [
    {
     "name": "stdout",
     "output_type": "stream",
     "text": [
      "El valor de 1 elevado a la 3ra potencia es: 1\n",
      "El valor de 2 elevado a la 3ra potencia es: 8\n",
      "El valor de 3 elevado a la 3ra potencia es: 27\n",
      "El valor de 4 elevado a la 3ra potencia es: 64\n",
      "El valor de 5 elevado a la 3ra potencia es: 125\n"
     ]
    }
   ],
   "source": [
    "mate=[1,2,3,4,5] # bucle for con lista\n",
    "for num in mate:\n",
    "    potencia = num **3\n",
    "    print(f\"El valor de {num} elevado a la 3ra potencia es: {potencia}\")"
   ]
  },
  {
   "cell_type": "code",
   "execution_count": 4,
   "metadata": {},
   "outputs": [
    {
     "name": "stdout",
     "output_type": "stream",
     "text": [
      "el valor 0 elevado a la 3ra potencia es 0\n",
      "el valor 1 elevado a la 3ra potencia es 1\n",
      "el valor 2 elevado a la 3ra potencia es 8\n",
      "el valor 3 elevado a la 3ra potencia es 27\n",
      "el valor 4 elevado a la 3ra potencia es 64\n",
      "el valor 5 elevado a la 3ra potencia es 125\n"
     ]
    }
   ],
   "source": [
    "# 4) En un ciclo for mostrar para los valores entre 0 y 5 el resultado de elevarlo a la potencia igual a 3\n",
    "\n",
    "for i in range(0, 6):\n",
    "    potencia = i**3\n",
    "    print(f\"el valor {i} elevado a la 3ra potencia es {potencia}\")"
   ]
  },
  {
   "attachments": {},
   "cell_type": "markdown",
   "metadata": {},
   "source": [
    "5) Crear una variable que contenga un número entero y realizar un ciclo for la misma cantidad de ciclos"
   ]
  },
  {
   "cell_type": "code",
   "execution_count": 10,
   "metadata": {},
   "outputs": [
    {
     "name": "stdout",
     "output_type": "stream",
     "text": [
      "Este es el número de ciclo 1\n",
      "Este es el número de ciclo 2\n",
      "Este es el número de ciclo 3\n",
      "Este es el número de ciclo 4\n"
     ]
    }
   ],
   "source": [
    "num = 4\n",
    "for num in range(1, num+1):\n",
    "    print(f\"Este es el número de ciclo {num}\")"
   ]
  },
  {
   "cell_type": "code",
   "execution_count": 5,
   "metadata": {},
   "outputs": [
    {
     "name": "stdout",
     "output_type": "stream",
     "text": [
      "el numero de ciclo 1\n",
      "el numero de ciclo 2\n",
      "el numero de ciclo 3\n",
      "el numero de ciclo 4\n",
      "el numero de ciclo 5\n"
     ]
    }
   ],
   "source": [
    "n=5\n",
    "for n in range(1, n+1):\n",
    "    print(f\"el numero de ciclo {n}\")"
   ]
  },
  {
   "attachments": {},
   "cell_type": "markdown",
   "metadata": {},
   "source": [
    "6) Utilizar un ciclo while para realizar el factorial de un número guardado en una variable, sólo si la variable contiene un número entero mayor a 0"
   ]
  },
  {
   "cell_type": "code",
   "execution_count": 17,
   "metadata": {},
   "outputs": [
    {
     "name": "stdout",
     "output_type": "stream",
     "text": [
      "El factorial es el número: 720\n"
     ]
    }
   ],
   "source": [
    "num = 6 # num = 6 => 6!= 6*5*4*3*2*1= 720\n",
    "factorial = 1\n",
    "if type(num) == int and num > 0:\n",
    "    while num >= 1:\n",
    "        factorial = num * factorial\n",
    "        num -= 1\n",
    "print(f\"El factorial es el número: {factorial}\")"
   ]
  },
  {
   "cell_type": "code",
   "execution_count": 41,
   "metadata": {},
   "outputs": [
    {
     "name": "stdout",
     "output_type": "stream",
     "text": [
      "El factorial es el número: 1\n"
     ]
    }
   ],
   "source": [
    "n = 5\n",
    "factorial = 1\n",
    "if type(n) == int and n > 0:\n",
    "    while n >= 1:\n",
    "        factorial = n * factorial\n",
    "        n -= 1\n",
    "print(f\"El factorial es el número: {factorial}\")"
   ]
  },
  {
   "cell_type": "code",
   "execution_count": 42,
   "metadata": {},
   "outputs": [
    {
     "name": "stdout",
     "output_type": "stream",
     "text": [
      "el valor no es un número mayor a cero\n"
     ]
    }
   ],
   "source": [
    "n = -5\n",
    "if (n > 0):\n",
    "    factorial = n\n",
    "    while n > 2:\n",
    "        n -= 1\n",
    "        factorial = factorial * n\n",
    "    print(f\"El factorial es el número: {factorial}\")\n",
    "else:\n",
    "    print(\"el valor no es un número mayor a cero\")"
   ]
  },
  {
   "cell_type": "code",
   "execution_count": 13,
   "metadata": {},
   "outputs": [
    {
     "name": "stdout",
     "output_type": "stream",
     "text": [
      "el factorial es 120\n"
     ]
    }
   ],
   "source": [
    "#6) Utilizar un ciclo while para realizar el factorial de un número guardado en una variable, sólo si la variable contiene un número entero mayor a 0\n",
    "n = 5\n",
    "factorial = 1\n",
    "if n > 0:\n",
    "    while n>=1:\n",
    "        factorial = n * factorial\n",
    "        n -= 1\n",
    "    print(f\"el factorial es {factorial}\")\n",
    "else:\n",
    "    print(f\"el numero no es factorial\")"
   ]
  },
  {
   "attachments": {},
   "cell_type": "markdown",
   "metadata": {},
   "source": [
    "7) Crear un ciclo for dentro de un ciclo while"
   ]
  },
  {
   "cell_type": "code",
   "execution_count": 16,
   "metadata": {},
   "outputs": [
    {
     "name": "stdout",
     "output_type": "stream",
     "text": [
      "Este es el ciclo while 1\n",
      "Este es el ciclo for 1\n",
      "Este es el ciclo while 2\n",
      "Este es el ciclo for 1\n",
      "Este es el ciclo for 2\n",
      "Este es el ciclo while 3\n",
      "Este es el ciclo for 1\n",
      "Este es el ciclo for 2\n",
      "Este es el ciclo for 3\n",
      "Este es el ciclo while 4\n",
      "Este es el ciclo for 1\n",
      "Este es el ciclo for 2\n",
      "Este es el ciclo for 3\n",
      "Este es el ciclo for 4\n",
      "Este es el ciclo while 5\n",
      "Este es el ciclo for 1\n",
      "Este es el ciclo for 2\n",
      "Este es el ciclo for 3\n",
      "Este es el ciclo for 4\n",
      "Este es el ciclo for 5\n"
     ]
    }
   ],
   "source": [
    "num = 1\n",
    "while num < 6:\n",
    "    print(f\"Este es el ciclo while {num}\")\n",
    "    for a in range(1, num+1):\n",
    "        print(f\"Este es el ciclo for {a}\")\n",
    "    num += 1\n"
   ]
  },
  {
   "cell_type": "code",
   "execution_count": 21,
   "metadata": {},
   "outputs": [
    {
     "name": "stdout",
     "output_type": "stream",
     "text": [
      "Este es el ciclo while 1\n",
      "Este es el ciclo for 1\n",
      "Este es el ciclo while 2\n",
      "Este es el ciclo for 1\n",
      "Este es el ciclo for 2\n",
      "Este es el ciclo while 3\n",
      "Este es el ciclo for 1\n",
      "Este es el ciclo for 2\n",
      "Este es el ciclo for 3\n",
      "Este es el ciclo while 4\n",
      "Este es el ciclo for 1\n",
      "Este es el ciclo for 2\n",
      "Este es el ciclo for 3\n",
      "Este es el ciclo for 4\n",
      "Este es el ciclo while 5\n",
      "Este es el ciclo for 1\n",
      "Este es el ciclo for 2\n",
      "Este es el ciclo for 3\n",
      "Este es el ciclo for 4\n",
      "Este es el ciclo for 5\n"
     ]
    }
   ],
   "source": [
    "num = 1\n",
    "while num < 6:\n",
    "    print(f\"Este es el ciclo while {num}\")\n",
    "    for a in range(1, num+1):\n",
    "        print(f\"Este es el ciclo for {a}\")\n",
    "    num += 1"
   ]
  },
  {
   "cell_type": "code",
   "execution_count": 15,
   "metadata": {},
   "outputs": [
    {
     "name": "stdout",
     "output_type": "stream",
     "text": [
      "ciclo while 1\n",
      "ciclo for 1\n",
      "ciclo while 2\n",
      "ciclo for 1\n",
      "ciclo for 2\n",
      "ciclo while 3\n",
      "ciclo for 1\n",
      "ciclo for 2\n",
      "ciclo for 3\n",
      "ciclo while 4\n",
      "ciclo for 1\n",
      "ciclo for 2\n",
      "ciclo for 3\n",
      "ciclo for 4\n",
      "ciclo while 5\n",
      "ciclo for 1\n",
      "ciclo for 2\n",
      "ciclo for 3\n",
      "ciclo for 4\n",
      "ciclo for 5\n"
     ]
    }
   ],
   "source": [
    "# 7) Crear un ciclo for dentro de un ciclo while\n",
    "n=1\n",
    "while n < 6:\n",
    "    print(f\"ciclo while {n}\")\n",
    "    for i in range(1, n+1):\n",
    "        print(f\"ciclo for {i}\")\n",
    "    n +=1\n"
   ]
  },
  {
   "cell_type": "code",
   "execution_count": 16,
   "metadata": {},
   "outputs": [
    {
     "name": "stdout",
     "output_type": "stream",
     "text": [
      "ciclo while 1\n",
      "ciclo while 2\n",
      "ciclo while 3\n",
      "ciclo while 4\n",
      "ciclo while 5\n"
     ]
    }
   ],
   "source": [
    "n=1\n",
    "while n < 6:\n",
    "    print(f\"ciclo while {n}\")\n",
    "    \n",
    "    n +=1"
   ]
  },
  {
   "cell_type": "code",
   "execution_count": 19,
   "metadata": {},
   "outputs": [
    {
     "name": "stdout",
     "output_type": "stream",
     "text": [
      "ciclo for 1\n"
     ]
    }
   ],
   "source": [
    "n=1\n",
    "\n",
    "for i in range(1, n+1):\n",
    "    print(f\"ciclo for {i}\")\n"
   ]
  },
  {
   "attachments": {},
   "cell_type": "markdown",
   "metadata": {},
   "source": [
    "8) Crear un ciclo while dentro de un ciclo for"
   ]
  },
  {
   "cell_type": "code",
   "execution_count": 19,
   "metadata": {},
   "outputs": [
    {
     "name": "stdout",
     "output_type": "stream",
     "text": [
      "Este es el ciclo for: 0\n",
      "Este es el ciclo while: 0\n",
      "Este es el ciclo while: 1\n",
      "Este es el ciclo while: 2\n",
      "Este es el ciclo while: 3\n",
      "Este es el ciclo for: 1\n",
      "Este es el ciclo while: 0\n",
      "Este es el ciclo while: 1\n",
      "Este es el ciclo while: 2\n",
      "Este es el ciclo while: 3\n",
      "Este es el ciclo for: 2\n",
      "Este es el ciclo while: 0\n",
      "Este es el ciclo while: 1\n",
      "Este es el ciclo while: 2\n",
      "Este es el ciclo while: 3\n"
     ]
    }
   ],
   "source": [
    "num = 3 # variable\n",
    "for a in range(num):\n",
    "    b = 0 # contador\n",
    "    l = 4 # limite\n",
    "    print(f\"Este es el ciclo for: {a}\")\n",
    "    while b < l:\n",
    "        print(f\"Este es el ciclo while: {b}\")\n",
    "        b += 1\n"
   ]
  },
  {
   "attachments": {},
   "cell_type": "markdown",
   "metadata": {},
   "source": [
    "9) Imprimir los números primos existentes entre 0 y 30"
   ]
  },
  {
   "cell_type": "code",
   "execution_count": 22,
   "metadata": {},
   "outputs": [
    {
     "name": "stdout",
     "output_type": "stream",
     "text": [
      "2 es primo\n",
      "3 es primo\n",
      "5 es primo\n",
      "7 es primo\n",
      "11 es primo\n",
      "13 es primo\n",
      "17 es primo\n",
      "19 es primo\n",
      "23 es primo\n",
      "29 es primo\n"
     ]
    }
   ],
   "source": [
    "tope = 30 # Números primos son los que se pueden dividir por uno mismo o por 1. Por ej. 3 => 3/1= 3 y 3/3=1\n",
    "n = 2   # el cero y el 1 no son primos, porque no cumplen la condición.\n",
    "primo = True\n",
    "\n",
    "while n <= tope:\n",
    "    for div in range(2, n):\n",
    "        resto = n % div\n",
    "        if resto == 0:\n",
    "            primo = False\n",
    "    if primo:\n",
    "        print(f\"{n} es primo\")\n",
    "    else:\n",
    "        primo = True\n",
    "    n += 1"
   ]
  },
  {
   "cell_type": "code",
   "execution_count": 43,
   "metadata": {},
   "outputs": [
    {
     "name": "stdout",
     "output_type": "stream",
     "text": [
      "el valor 2 es primo\n",
      "el valor 3 es primo\n",
      "el valor 5 es primo\n",
      "el valor 7 es primo\n",
      "el valor 11 es primo\n",
      "el valor 13 es primo\n",
      "el valor 17 es primo\n",
      "el valor 19 es primo\n",
      "el valor 23 es primo\n",
      "el valor 29 es primo\n"
     ]
    }
   ],
   "source": [
    "primo = True\n",
    "for i in range(2, 31):\n",
    "    for x in range(2, i):\n",
    "        if (i % x == 0):\n",
    "            primo = False\n",
    "    if primo:\n",
    "        print(f\"el valor {i} es primo\")\n",
    "    else:\n",
    "        primo = True\n"
   ]
  },
  {
   "attachments": {},
   "cell_type": "markdown",
   "metadata": {},
   "source": [
    "10) ¿Se puede mejorar el proceso del punto 9? Utilizar las sentencias break y/ó continue para tal fin"
   ]
  },
  {
   "cell_type": "code",
   "execution_count": 22,
   "metadata": {},
   "outputs": [
    {
     "name": "stdout",
     "output_type": "stream",
     "text": [
      "2\n",
      "3\n",
      "5\n",
      "7\n",
      "11\n",
      "13\n",
      "17\n",
      "19\n",
      "23\n",
      "29\n"
     ]
    }
   ],
   "source": [
    "tope = 30 # break modifica el comportamiento de los bucles for y while.\n",
    "n = 2\n",
    "primo = True\n",
    "\n",
    "while n <= tope:\n",
    "    for div in range(2, n):\n",
    "        resto = n % div\n",
    "        if resto == 0:\n",
    "            primo = False\n",
    "            break # En este caso el break optimiza la cantidad de ciclos que realiza el loop.\n",
    "    if primo:\n",
    "        print(n)\n",
    "    else:\n",
    "        primo = True\n",
    "    n += 1"
   ]
  },
  {
   "cell_type": "code",
   "execution_count": 44,
   "metadata": {},
   "outputs": [
    {
     "name": "stdout",
     "output_type": "stream",
     "text": [
      "el valor 2 es primo\n",
      "el valor 3 es primo\n",
      "el valor 5 es primo\n",
      "el valor 7 es primo\n",
      "el valor 11 es primo\n",
      "el valor 13 es primo\n",
      "el valor 17 es primo\n",
      "el valor 19 es primo\n",
      "el valor 23 es primo\n",
      "el valor 29 es primo\n"
     ]
    }
   ],
   "source": [
    "primo = True\n",
    "for i in range(2, 31):\n",
    "    for x in range(2, i):\n",
    "        if (i % x == 0):\n",
    "            primo = False\n",
    "            break\n",
    "    if primo:\n",
    "        print(f\"el valor {i} es primo\")\n",
    "    else:\n",
    "        primo = True"
   ]
  },
  {
   "attachments": {},
   "cell_type": "markdown",
   "metadata": {},
   "source": [
    "11) En los puntos 9 y 10, se diseño un código que encuentra números primos y además se lo optimizó. ¿Es posible saber en qué medida se optimizó?"
   ]
  },
  {
   "cell_type": "code",
   "execution_count": 25,
   "metadata": {},
   "outputs": [
    {
     "name": "stdout",
     "output_type": "stream",
     "text": [
      "2\n",
      "3\n",
      "5\n",
      "7\n",
      "11\n",
      "13\n",
      "17\n",
      "19\n",
      "23\n",
      "29\n",
      "Cantidad de ciclos  sin break 406\n"
     ]
    }
   ],
   "source": [
    "tope = 30\n",
    "n = 2\n",
    "primo = True\n",
    "ciclos_sin_break = 0\n",
    "\n",
    "while n <= tope:\n",
    "    for div in range(2, n):\n",
    "        ciclos_sin_break += 1\n",
    "        resto = n % div\n",
    "        if resto == 0:\n",
    "            primo = False\n",
    "    if primo:\n",
    "        print(n)\n",
    "    else:\n",
    "        primo = True\n",
    "    n += 1\n",
    "print(f\"Cantidad de ciclos  sin break {ciclos_sin_break}\")"
   ]
  },
  {
   "cell_type": "code",
   "execution_count": 26,
   "metadata": {},
   "outputs": [
    {
     "name": "stdout",
     "output_type": "stream",
     "text": [
      "2\n",
      "3\n",
      "5\n",
      "7\n",
      "11\n",
      "13\n",
      "17\n",
      "19\n",
      "23\n",
      "29\n",
      "Cantidad de ciclos con break 135\n"
     ]
    }
   ],
   "source": [
    "tope = 30\n",
    "n = 2\n",
    "primo = True\n",
    "ciclos_con_break = 0\n",
    "while n <= tope:\n",
    "    for div in range(2, n):\n",
    "        ciclos_con_break += 1\n",
    "        resto = n % div\n",
    "        if resto == 0:\n",
    "            primo = False\n",
    "            break\n",
    "    if primo:\n",
    "        print(n)\n",
    "    else:\n",
    "        primo = True\n",
    "    n += 1\n",
    "print(f\"Cantidad de ciclos con break {ciclos_con_break}\")"
   ]
  },
  {
   "cell_type": "code",
   "execution_count": 27,
   "metadata": {},
   "outputs": [
    {
     "data": {
      "text/plain": [
       "0.33251231527093594"
      ]
     },
     "execution_count": 27,
     "metadata": {},
     "output_type": "execute_result"
    }
   ],
   "source": [
    "ciclos_con_break/ciclos_sin_break # Optimiza un 33% los cliclos incluyendo el break"
   ]
  },
  {
   "cell_type": "code",
   "execution_count": 48,
   "metadata": {},
   "outputs": [
    {
     "name": "stdout",
     "output_type": "stream",
     "text": [
      "el valor 2 es primo\n",
      "el valor 3 es primo\n",
      "el valor 5 es primo\n",
      "el valor 7 es primo\n",
      "el valor 11 es primo\n",
      "el valor 13 es primo\n",
      "el valor 17 es primo\n",
      "el valor 19 es primo\n",
      "el valor 23 es primo\n",
      "el valor 29 es primo\n",
      "Cantidad de ciclos  sin break es 406\n"
     ]
    }
   ],
   "source": [
    "sin_break = 0\n",
    "primo = True\n",
    "for i in range(2, 31):\n",
    "    for x in range(2, i):\n",
    "        sin_break +=1\n",
    "        if (i % x == 0):\n",
    "            primo = False\n",
    "    if primo:\n",
    "        print(f\"el valor {i} es primo\")\n",
    "    else:\n",
    "        primo = True\n",
    "print(f\"Cantidad de ciclos  sin break es {sin_break}\")"
   ]
  },
  {
   "cell_type": "code",
   "execution_count": 50,
   "metadata": {},
   "outputs": [
    {
     "name": "stdout",
     "output_type": "stream",
     "text": [
      "el valor 2 es primo\n",
      "el valor 3 es primo\n",
      "el valor 5 es primo\n",
      "el valor 7 es primo\n",
      "el valor 11 es primo\n",
      "el valor 13 es primo\n",
      "el valor 17 es primo\n",
      "el valor 19 es primo\n",
      "el valor 23 es primo\n",
      "el valor 29 es primo\n",
      "Cantidad de ciclos con break es 135\n"
     ]
    }
   ],
   "source": [
    "con_break = 0\n",
    "primo = True\n",
    "for i in range(2, 31):\n",
    "    for x in range(2, i):\n",
    "        con_break +=1\n",
    "        if (i % x == 0):\n",
    "            primo = False\n",
    "            break\n",
    "    if primo:\n",
    "        print(f\"el valor {i} es primo\")\n",
    "    else:\n",
    "        primo = True\n",
    "print(f\"Cantidad de ciclos con break es {con_break}\")"
   ]
  },
  {
   "cell_type": "code",
   "execution_count": null,
   "metadata": {},
   "outputs": [],
   "source": []
  },
  {
   "attachments": {},
   "cell_type": "markdown",
   "metadata": {},
   "source": [
    "12) Aplicando continue, armar un ciclo while que solo imprima los valores divisibles por 12, dentro del rango de números de 100 a 300"
   ]
  },
  {
   "cell_type": "code",
   "execution_count": 4,
   "metadata": {},
   "outputs": [
    {
     "name": "stdout",
     "output_type": "stream",
     "text": [
      "108 es divisible por 12\n",
      "120 es divisible por 12\n",
      "132 es divisible por 12\n",
      "144 es divisible por 12\n",
      "156 es divisible por 12\n",
      "168 es divisible por 12\n",
      "180 es divisible por 12\n",
      "192 es divisible por 12\n",
      "204 es divisible por 12\n",
      "216 es divisible por 12\n",
      "228 es divisible por 12\n",
      "240 es divisible por 12\n",
      "252 es divisible por 12\n",
      "264 es divisible por 12\n",
      "276 es divisible por 12\n",
      "288 es divisible por 12\n",
      "300 es divisible por 12\n"
     ]
    }
   ],
   "source": [
    "n = 99\n",
    "while n <= 300:\n",
    "    n += 1\n",
    "    resto = n % 12\n",
    "    if resto != 0:\n",
    "        continue\n",
    "    print(f\"{n} es divisible por 12\")\n",
    "\n"
   ]
  },
  {
   "cell_type": "code",
   "execution_count": 52,
   "metadata": {},
   "outputs": [
    {
     "name": "stdout",
     "output_type": "stream",
     "text": [
      "108 es divisible por 12\n",
      "120 es divisible por 12\n",
      "132 es divisible por 12\n",
      "144 es divisible por 12\n",
      "156 es divisible por 12\n",
      "168 es divisible por 12\n",
      "180 es divisible por 12\n",
      "192 es divisible por 12\n",
      "204 es divisible por 12\n",
      "216 es divisible por 12\n",
      "228 es divisible por 12\n",
      "240 es divisible por 12\n",
      "252 es divisible por 12\n",
      "264 es divisible por 12\n",
      "276 es divisible por 12\n",
      "288 es divisible por 12\n",
      "300 es divisible por 12\n"
     ]
    }
   ],
   "source": [
    "n = 99\n",
    "while n <= 300:\n",
    "    n += 1\n",
    "    if (n % 12 != 0):\n",
    "        continue\n",
    "    print(f\"{n} es divisible por 12\")"
   ]
  },
  {
   "attachments": {},
   "cell_type": "markdown",
   "metadata": {},
   "source": [
    "13) Utilizar la función **input()** que permite hacer ingresos por teclado, para encontrar números primos y dar la opción al usario de buscar el siguiente"
   ]
  },
  {
   "cell_type": "code",
   "execution_count": 5,
   "metadata": {},
   "outputs": [
    {
     "name": "stdout",
     "output_type": "stream",
     "text": [
      "3\n",
      "<class 'int'>\n"
     ]
    }
   ],
   "source": [
    "a = input(\"Ingrese un número mayor a 0: \")\n",
    "a = int(a)\n",
    "print(a)\n",
    "print(type(a))"
   ]
  },
  {
   "cell_type": "code",
   "execution_count": 12,
   "metadata": {},
   "outputs": [
    {
     "name": "stdout",
     "output_type": "stream",
     "text": [
      "El número 2 es primo\n",
      "Desea encontrar el siguiente número primo?\n",
      "El número 3 es primo\n",
      "Desea encontrar el siguiente número primo?\n",
      "El número 5 es primo\n",
      "Desea encontrar el siguiente número primo?\n",
      "Se finaliza la búsqueda\n"
     ]
    }
   ],
   "source": [
    "n = 2\n",
    "primo = True\n",
    "buscar_primo = True\n",
    "\n",
    "while buscar_primo:\n",
    "    for div in range(2, n):\n",
    "        resto = n % div\n",
    "        if resto == 0:\n",
    "            primo = False\n",
    "            break\n",
    "    if primo:\n",
    "        print(f\"El número {n} es primo\")\n",
    "        print(\"Desea encontrar el siguiente número primo?\")\n",
    "        continuar = input(\"Ingrese 'si' o 'no': \")\n",
    "        if continuar == 'no':\n",
    "            print(\"Se finaliza la búsqueda\")\n",
    "            buscar_primo = False\n",
    "            break\n",
    "    else:\n",
    "        primo = True\n",
    "    n += 1\n"
   ]
  },
  {
   "cell_type": "code",
   "execution_count": 53,
   "metadata": {},
   "outputs": [
    {
     "name": "stdout",
     "output_type": "stream",
     "text": [
      "el valor 2 es primo\n",
      "quieres ingresar el siguiente?\n",
      "el valor 3 es primo\n",
      "quieres ingresar el siguiente?\n",
      "el valor 5 es primo\n",
      "quieres ingresar el siguiente?\n",
      "el valor 7 es primo\n",
      "quieres ingresar el siguiente?\n",
      " se finaliza\n"
     ]
    }
   ],
   "source": [
    "n = 2\n",
    "primo = True\n",
    "while True:\n",
    "    for x in range(2, n):\n",
    "        if (n % x == 0):\n",
    "            primo = False\n",
    "            break\n",
    "    if primo:\n",
    "        print(f\"el valor {n} es primo\")\n",
    "        print(\"quieres ingresar el siguiente?\")\n",
    "        if (input() != \"1\"):\n",
    "            print(\" se finaliza\")\n",
    "            break\n",
    "    else:\n",
    "        primo = True\n",
    "    n += 1"
   ]
  },
  {
   "attachments": {},
   "cell_type": "markdown",
   "metadata": {},
   "source": [
    "14) Crear un ciclo while que encuentre dentro del rango de 100 a 300 el primer número divisible por 3 y además múltiplo de 6"
   ]
  },
  {
   "cell_type": "code",
   "execution_count": 54,
   "metadata": {},
   "outputs": [
    {
     "name": "stdout",
     "output_type": "stream",
     "text": [
      "El número es : 102\n"
     ]
    }
   ],
   "source": [
    "n = 100\n",
    "while n <= 300:\n",
    "    if (n % 6 == 0):\n",
    "        print(f\"El número es : {n}\")\n",
    "        break\n",
    "    n += 1\n"
   ]
  },
  {
   "cell_type": "code",
   "execution_count": null,
   "metadata": {},
   "outputs": [],
   "source": []
  }
 ],
 "metadata": {
  "interpreter": {
   "hash": "c85384e4cb51c8b72350f3a8712cc8351fdc3955e32a27f9b60c6242ab125f01"
  },
  "kernelspec": {
   "display_name": "Python 3 (ipykernel)",
   "language": "python",
   "name": "python3"
  },
  "language_info": {
   "codemirror_mode": {
    "name": "ipython",
    "version": 3
   },
   "file_extension": ".py",
   "mimetype": "text/x-python",
   "name": "python",
   "nbconvert_exporter": "python",
   "pygments_lexer": "ipython3",
   "version": "3.10.11"
  }
 },
 "nbformat": 4,
 "nbformat_minor": 4
}
