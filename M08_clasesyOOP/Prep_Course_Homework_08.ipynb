{
 "cells": [
  {
   "attachments": {},
   "cell_type": "markdown",
   "metadata": {},
   "source": [
    "## Clases y Programación Orientada a Objetos"
   ]
  },
  {
   "attachments": {},
   "cell_type": "markdown",
   "metadata": {},
   "source": [
    "1) Crear la clase vehículo que contenga los atributos:<br>\n",
    "Color<br>\n",
    "Si es moto, auto, camioneta ó camión<br>\n",
    "Cilindrada del motor"
   ]
  },
  {
   "cell_type": "code",
   "execution_count": 22,
   "metadata": {},
   "outputs": [],
   "source": [
    "class Vehiculo:\n",
    "    def __init__(self, color, tipo, cilindrada):\n",
    "        self.color = color\n",
    "        self.tipo = tipo\n",
    "        self.cilindrada = cilindrada\n",
    "    def presentar(self):\n",
    "        return print(\"color: \", self.color, \"tipo: \", self.tipo, \"cilindrada: \", self.cilindrada)"
   ]
  },
  {
   "cell_type": "code",
   "execution_count": 6,
   "metadata": {},
   "outputs": [],
   "source": [
    "m1= Vehiculo(\"negro\", \"auto\",\"1500 cc\")\n",
    "a1 = Vehiculo(\"rojo\", \"moto\", \"5.0\")\n",
    "c1 = Vehiculo(\"blanco\", \"camion\", \"700 cf\")"
   ]
  },
  {
   "cell_type": "code",
   "execution_count": 28,
   "metadata": {},
   "outputs": [
    {
     "name": "stdout",
     "output_type": "stream",
     "text": [
      "color:  roja tipo:  moto cilindrada:  2500cc vel 90 grados 0\n"
     ]
    }
   ],
   "source": [
    "m1.presentar() "
   ]
  },
  {
   "attachments": {},
   "cell_type": "markdown",
   "metadata": {},
   "source": [
    "2) A la clase Vehiculo creada en el punto 1, agregar los siguientes métodos:<br>\n",
    "Acelerar<br>\n",
    "Frenar<br>\n",
    "Doblar<br>"
   ]
  },
  {
   "cell_type": "code",
   "execution_count": 24,
   "metadata": {},
   "outputs": [],
   "source": [
    "class Vehiculo:\n",
    "    def __init__(self, color, tipo, cilindrada):\n",
    "        self.color = color\n",
    "        self.tipo = tipo\n",
    "        self.cilindrada = cilindrada\n",
    "        self.velocidad = 0\n",
    "        self.direccion = 0\n",
    "    def Acelerar(self, vel):\n",
    "        self.velocidad += vel\n",
    "    def Frenar(self, vel):\n",
    "        self.velocidad -= vel\n",
    "    def Doblar(self, grados):\n",
    "        self.direccion += grados\n",
    "    def presentar(self):\n",
    "        return print(\"color: \", self.color, \"tipo: \", self.tipo, \"cilindrada: \", self.cilindrada, \"vel\", self.velocidad,\"grados\",self.direccion)"
   ]
  },
  {
   "cell_type": "code",
   "execution_count": 31,
   "metadata": {},
   "outputs": [
    {
     "data": {
      "text/plain": [
       "0"
      ]
     },
     "execution_count": 31,
     "metadata": {},
     "output_type": "execute_result"
    }
   ],
   "source": [
    "m1.velocidad"
   ]
  },
  {
   "cell_type": "code",
   "execution_count": 26,
   "metadata": {},
   "outputs": [
    {
     "name": "stdout",
     "output_type": "stream",
     "text": [
      "<__main__.Vehiculo object at 0x000001CF60899360>\n"
     ]
    }
   ],
   "source": [
    "m1 = Vehiculo(\"roja\", \"moto\", \"2500cc\")\n",
    "m1.Acelerar(50)\n",
    "m1.Frenar(5)\n",
    "print(m1)"
   ]
  },
  {
   "cell_type": "code",
   "execution_count": 27,
   "metadata": {},
   "outputs": [
    {
     "data": {
      "text/plain": [
       "90"
      ]
     },
     "execution_count": 27,
     "metadata": {},
     "output_type": "execute_result"
    }
   ],
   "source": [
    "\n",
    "m1.Acelerar(50)\n",
    "m1.Frenar(5)\n",
    "m1.velocidad"
   ]
  },
  {
   "cell_type": "code",
   "execution_count": 33,
   "metadata": {},
   "outputs": [
    {
     "data": {
      "text/plain": [
       "45"
      ]
     },
     "execution_count": 33,
     "metadata": {},
     "output_type": "execute_result"
    }
   ],
   "source": [
    "m1.Doblar(90)\n",
    "m1.Doblar(-45)\n",
    "m1.direccion"
   ]
  },
  {
   "attachments": {},
   "cell_type": "markdown",
   "metadata": {},
   "source": [
    "3) Instanciar 3 objetos de la clase vehículo y ejecutar sus métodos, probar luego el resultado"
   ]
  },
  {
   "cell_type": "code",
   "execution_count": 29,
   "metadata": {},
   "outputs": [],
   "source": [
    "m1= Vehiculo(\"negro\", \"auto\",\"1500 cc\")\n",
    "a1 = Vehiculo(\"rojo\", \"moto\", \"5.0\")\n",
    "c1 = Vehiculo(\"blanco\", \"camion\", \"700 cf\")"
   ]
  },
  {
   "cell_type": "code",
   "execution_count": 30,
   "metadata": {},
   "outputs": [
    {
     "name": "stdout",
     "output_type": "stream",
     "text": [
      "color:  negro tipo:  auto cilindrada:  1500 cc vel 0 grados 0\n",
      "color:  rojo tipo:  moto cilindrada:  5.0 vel 0 grados 0\n",
      "color:  blanco tipo:  camion cilindrada:  700 cf vel 0 grados 0\n"
     ]
    }
   ],
   "source": [
    "m1.presentar()\n",
    "a1.presentar()\n",
    "c1.presentar()\n",
    "    "
   ]
  },
  {
   "cell_type": "code",
   "execution_count": 29,
   "metadata": {},
   "outputs": [
    {
     "name": "stdout",
     "output_type": "stream",
     "text": [
      "color:  negro tipo:  auto cilindrada:  1500 cc vel 199 grados 50\n",
      "color:  rojo tipo:  moto cilindrada:  5.0 vel 178 grados -50\n",
      "color:  blanco tipo:  camion cilindrada:  700 cf vel 119 grados 20\n"
     ]
    }
   ],
   "source": [
    "m1.presentar()\n",
    "a1.presentar()\n",
    "c1.presentar()\n",
    "    "
   ]
  },
  {
   "attachments": {},
   "cell_type": "markdown",
   "metadata": {},
   "source": [
    "4) Agregar a la clase Vehiculo, un método que muestre su estado, es decir, a que velocidad se encuentra y su dirección. Y otro método que muestre color, tipo y cilindrada"
   ]
  },
  {
   "cell_type": "code",
   "execution_count": 34,
   "metadata": {},
   "outputs": [],
   "source": [
    "class Vehiculo:\n",
    "    def __init__(self, color, tipo, cilindrada):\n",
    "        self.color = color\n",
    "        self.tipo = tipo\n",
    "        self.cilindrada = cilindrada\n",
    "        self.velocidad = 0\n",
    "        self.direccion = 0\n",
    "    def Acelerar(self, vel):\n",
    "        self.velocidad += vel\n",
    "    def Frenar(self, vel):\n",
    "        self.velocidad -= vel\n",
    "    def Doblar(self, grados):\n",
    "        self.direccion += grados\n",
    "\n",
    "    def Estado(self):\n",
    "        print(\"velocidad\", self.velocidad, \"- Dirección\", self.direccion)\n",
    "        \n",
    "    def Detalle(self):\n",
    "        print(\"Soy \", self.tipo,\"de color\", self.color,\"y tengo una cilindrada de \", self.cilindrada)\n",
    "    \n",
    "    def Estado(self):\n",
    "        print(\"velocidad\", self.velocidad, \"- Dirección\", self.direccion)\n",
    "        \n",
    "    def Detalle(self):\n",
    "        print(\"Soy \", self.tipo,\"de color\", self.color,\"y tengo una cilindrada de \", self.cilindrada)\n",
    "        \n",
    "    def presentar(self):\n",
    "        return print(\"color: \", self.color, \"tipo: \", self.tipo, \"cilindrada: \", self.cilindrada, \"vel\", self.velocidad,\"grados\",self.direccion)"
   ]
  },
  {
   "cell_type": "code",
   "execution_count": 37,
   "metadata": {},
   "outputs": [
    {
     "name": "stdout",
     "output_type": "stream",
     "text": [
      "velocidad 45 - Dirección 0\n",
      "Soy  moto de color roja y tengo una cilindrada de  1700cc\n",
      "Soy  auto de color negro y tengo una cilindrada de  5.0 cc\n",
      "Soy  camion de color azul y tengo una cilindrada de   2500 cc\n"
     ]
    }
   ],
   "source": [
    "m1 = Vehiculo(\"roja\", \"moto\", \"1700cc\")\n",
    "m1.Acelerar(50)\n",
    "m1.Frenar(5)\n",
    "m1.Estado()\n",
    "m1.Detalle()\n",
    "\n",
    "a1 = Vehiculo(\"negro\", \"auto\", \"5.0 cc\")\n",
    "a1.Detalle()\n",
    "\n",
    "c1 = Vehiculo(\"azul\", \"camion\", \" 2500 cc\")\n",
    "c1.Detalle()"
   ]
  },
  {
   "attachments": {},
   "cell_type": "markdown",
   "metadata": {},
   "source": [
    "5) Crear una clase que permita utilizar las funciones creadas en la práctica del módulo 7<br>\n",
    "Verificar Primo<br>\n",
    "Valor modal<br>\n",
    "Conversión grados<br>\n",
    "Factorial<br>"
   ]
  },
  {
   "cell_type": "code",
   "execution_count": 1,
   "metadata": {},
   "outputs": [],
   "source": [
    "class Herramientas:\n",
    "    def __init__(self):\n",
    "        pass\n",
    "\n",
    "    def es_numero_primo(self, num):\n",
    "        primo = True\n",
    "        for i in range(2, num):\n",
    "            if (num % i == 0):\n",
    "                primo = False\n",
    "                break\n",
    "        return primo\n",
    "\n",
    "    def valor_modal(self, lista, modo = \"menor\"):\n",
    "        contador = {}\n",
    "        for num in lista:\n",
    "            if num in contador.keys():\n",
    "                contador[num] += 1\n",
    "            else:\n",
    "                contador[num] = 1\n",
    "        maximo_repeticion = 0\n",
    "        mas_repetido = []\n",
    "\n",
    "        for numero, repeticion in contador.items():\n",
    "            if repeticion > maximo_repeticion:\n",
    "                maximo_repeticion = repeticion\n",
    "                mas_repetido = [numero]\n",
    "            elif repeticion == maximo_repeticion:\n",
    "                mas_repetido.append(numero)\n",
    "        if modo == \"menor\":\n",
    "            mas_repetido_num = min(mas_repetido)\n",
    "        elif modo == \"mayor\":\n",
    "            mas_repetido_num = max(mas_repetido)\n",
    "        return mas_repetido_num, maximo_repeticion\n",
    "                                \n",
    "    def conversion_grados(self, valor, origen, destino):\n",
    "        if origen == \"celsius\":\n",
    "            if destino == \"celsius\":\n",
    "                valor_destino = valor\n",
    "            elif destino == \"farenheit\":\n",
    "                valor_destino = (valor * 9 /5) + 32\n",
    "            elif destino == \"kelvin\":\n",
    "                valor_destino = valor * 273.15\n",
    "            else:\n",
    "                print(\"Parámetro de destino incorrecto\")\n",
    "        elif origen == \"farenheit\":\n",
    "            if destino == \"celsius\":\n",
    "                valor_destino = (valor - 32) * 5 / 9\n",
    "            elif destino == \"farenheit\":\n",
    "                valor_destino = valor\n",
    "            elif destino == \"kelvin\":\n",
    "                valor_destino = ((valor - 32) * 5 / 9) +273.15\n",
    "            else:\n",
    "                print(\"Parámetro de destino incorrecto\")\n",
    "        elif origen == \"kelvin\":\n",
    "            if destino == \"celsius\":\n",
    "                valor_destino = valor - 273.15\n",
    "            elif destino == \"farenheit\":\n",
    "                valor_destino = ((valor - 273.15) * 9 / 5) + 32\n",
    "            elif destino == \"kelvin\":\n",
    "                valor_destino = valor\n",
    "            else:\n",
    "                print(\"Parámetro de Destino incorrecto\")\n",
    "        else:\n",
    "            print(\"Parámetro de Origen incorrecto\")  \n",
    "                \n",
    "        return valor_destino\n",
    "\n",
    "    def factorial(self, num):\n",
    "        if type(num) != int or num < 0:\n",
    "            return None\n",
    "        if num <= 1:\n",
    "            return 1\n",
    "        num = num * self.factorial(num -1)\n",
    "        return num\n",
    "\n",
    "\n",
    "\n"
   ]
  },
  {
   "cell_type": "code",
   "execution_count": 2,
   "metadata": {},
   "outputs": [],
   "source": [
    "h = Herramientas()"
   ]
  },
  {
   "cell_type": "code",
   "execution_count": 3,
   "metadata": {},
   "outputs": [
    {
     "data": {
      "text/plain": [
       "True"
      ]
     },
     "execution_count": 3,
     "metadata": {},
     "output_type": "execute_result"
    }
   ],
   "source": [
    "h.es_numero_primo(5)"
   ]
  },
  {
   "cell_type": "code",
   "execution_count": 4,
   "metadata": {},
   "outputs": [
    {
     "data": {
      "text/plain": [
       "120"
      ]
     },
     "execution_count": 4,
     "metadata": {},
     "output_type": "execute_result"
    }
   ],
   "source": [
    "h.factorial(5)"
   ]
  },
  {
   "attachments": {},
   "cell_type": "markdown",
   "metadata": {},
   "source": [
    "6) Probar las funciones incorporadas en la clase del punto 5"
   ]
  },
  {
   "cell_type": "code",
   "execution_count": 9,
   "metadata": {},
   "outputs": [
    {
     "data": {
      "text/plain": [
       "(2, 2)"
      ]
     },
     "execution_count": 9,
     "metadata": {},
     "output_type": "execute_result"
    }
   ],
   "source": [
    "listado = [1,8,2,5,4,8,10,7,2]\n",
    "h.valor_modal(listado) # en la función está definido que busque el menor"
   ]
  },
  {
   "attachments": {},
   "cell_type": "markdown",
   "metadata": {},
   "source": [
    "7) Es necesario que la clase creada en el punto 5 contenga una lista, sobre la cual se apliquen las funciones incorporadas"
   ]
  },
  {
   "cell_type": "code",
   "execution_count": 10,
   "metadata": {},
   "outputs": [],
   "source": [
    "class Herramientas:\n",
    "    def __init__(self, lista_numeros):\n",
    "        self.lista = lista_numeros\n",
    "    def es_numero_primo(self):\n",
    "        for i in self.lista:\n",
    "            if (self.__es_numero_primo(i)):\n",
    "                print(f\"el elemento {i} SI es número primo\")\n",
    "            else:\n",
    "                print(f\"el elemento {i} NO es número primo\")\n",
    "    def conversion_grados(self, origen, destino):\n",
    "        for i in self.lista:\n",
    "            print(i, \"grados\", origen, \"son\", self.__conversion_grados(i, origen, destino), \"grados\", destino)\n",
    "    def factorial(self):\n",
    "        for i in self.lista:\n",
    "            print(\"el factorial de \", i, \"es \" , self.__factorial(i))\n",
    "        \n",
    "\n",
    "    def __es_numero_primo(self, num):\n",
    "        primo = True\n",
    "        for i in range(2, num):\n",
    "            if (num % i == 0):\n",
    "                primo = False\n",
    "                break\n",
    "        return primo\n",
    "\n",
    "    def valor_modal(self, lista, modo = \"menor\"):\n",
    "        contador = {}\n",
    "        for num in self.lista:\n",
    "            if num in contador.keys():\n",
    "                contador[num] += 1\n",
    "            else:\n",
    "                contador[num] = 1\n",
    "        maximo_repeticion = 0\n",
    "        mas_repetido = []\n",
    "\n",
    "        for numero, repeticion in contador.items():\n",
    "            if repeticion > maximo_repeticion:\n",
    "                maximo_repeticion = repeticion\n",
    "                mas_repetido = [numero]\n",
    "            elif repeticion == maximo_repeticion:\n",
    "                mas_repetido.append(numero)\n",
    "        if modo == \"menor\":\n",
    "            mas_repetido_num = min(mas_repetido)\n",
    "        elif modo == \"mayor\":\n",
    "            mas_repetido_num = max(mas_repetido)\n",
    "        return mas_repetido_num, maximo_repeticion\n",
    "                                \n",
    "    def __conversion_grados(self, valor, origen, destino):\n",
    "        if origen == \"celsius\":\n",
    "            if destino == \"celsius\":\n",
    "                valor_destino = valor\n",
    "            elif destino == \"farenheit\":\n",
    "                valor_destino = (valor * 9 /5) + 32\n",
    "            elif destino == \"kelvin\":\n",
    "                valor_destino = valor * 273.15\n",
    "            else:\n",
    "                print(\"Parámetro de destino incorrecto\")\n",
    "        elif origen == \"farenheit\":\n",
    "            if destino == \"celsius\":\n",
    "                valor_destino = (valor - 32) * 5 / 9\n",
    "            elif destino == \"farenheit\":\n",
    "                valor_destino = valor\n",
    "            elif destino == \"kelvin\":\n",
    "                valor_destino = ((valor - 32) * 5 / 9) +273.15\n",
    "            else:\n",
    "                print(\"Parámetro de destino incorrecto\")\n",
    "        elif origen == \"kelvin\":\n",
    "            if destino == \"celsius\":\n",
    "                valor_destino = valor - 273.15\n",
    "            elif destino == \"farenheit\":\n",
    "                valor_destino = ((valor - 273.15) * 9 / 5) + 32\n",
    "            elif destino == \"kelvin\":\n",
    "                valor_destino = valor\n",
    "            else:\n",
    "                print(\"Parámetro de Destino incorrecto\")\n",
    "        else:\n",
    "            print(\"Parámetro de Origen incorrecto\")  \n",
    "                \n",
    "        return valor_destino\n",
    "\n",
    "    def __factorial(self, num):\n",
    "        if type(num) != int or num < 0:\n",
    "            return None\n",
    "        if num <= 1:\n",
    "            return 1\n",
    "        num = num * self.__factorial(num -1)\n",
    "        return num\n",
    "\n"
   ]
  },
  {
   "cell_type": "code",
   "execution_count": 11,
   "metadata": {},
   "outputs": [
    {
     "name": "stdout",
     "output_type": "stream",
     "text": [
      "el valor modal es 2 y se repite 2 veces\n"
     ]
    }
   ],
   "source": [
    "listado = [1,8,2,5,4,8,10,7,2]\n",
    "j = Herramientas(listado)\n",
    "moda, repeticion = j.valor_modal(\"menor\")\n",
    "print(f\"el valor modal es {moda} y se repite {repeticion} veces\")"
   ]
  },
  {
   "cell_type": "code",
   "execution_count": 12,
   "metadata": {},
   "outputs": [
    {
     "name": "stdout",
     "output_type": "stream",
     "text": [
      "1 grados celsius son 33.8 grados farenheit\n",
      "8 grados celsius son 46.4 grados farenheit\n",
      "2 grados celsius son 35.6 grados farenheit\n",
      "5 grados celsius son 41.0 grados farenheit\n",
      "4 grados celsius son 39.2 grados farenheit\n",
      "8 grados celsius son 46.4 grados farenheit\n",
      "10 grados celsius son 50.0 grados farenheit\n",
      "7 grados celsius son 44.6 grados farenheit\n",
      "2 grados celsius son 35.6 grados farenheit\n"
     ]
    }
   ],
   "source": [
    "j.conversion_grados(\"celsius\", \"farenheit\")"
   ]
  },
  {
   "cell_type": "code",
   "execution_count": 13,
   "metadata": {},
   "outputs": [
    {
     "name": "stdout",
     "output_type": "stream",
     "text": [
      "el factorial de  1 es  1\n",
      "el factorial de  8 es  40320\n",
      "el factorial de  2 es  2\n",
      "el factorial de  5 es  120\n",
      "el factorial de  4 es  24\n",
      "el factorial de  8 es  40320\n",
      "el factorial de  10 es  3628800\n",
      "el factorial de  7 es  5040\n",
      "el factorial de  2 es  2\n"
     ]
    }
   ],
   "source": [
    "j.factorial()"
   ]
  },
  {
   "cell_type": "code",
   "execution_count": 14,
   "metadata": {},
   "outputs": [
    {
     "name": "stdout",
     "output_type": "stream",
     "text": [
      "el elemento 1 SI es número primo\n",
      "el elemento 8 NO es número primo\n",
      "el elemento 2 SI es número primo\n",
      "el elemento 5 SI es número primo\n",
      "el elemento 4 NO es número primo\n",
      "el elemento 8 NO es número primo\n",
      "el elemento 10 NO es número primo\n",
      "el elemento 7 SI es número primo\n",
      "el elemento 2 SI es número primo\n"
     ]
    }
   ],
   "source": [
    "j.es_numero_primo()"
   ]
  },
  {
   "attachments": {},
   "cell_type": "markdown",
   "metadata": {},
   "source": [
    "8) Crear un archivo .py aparte y ubicar allí la clase generada en el punto anterior. Luego realizar la importación del módulo y probar alguna de sus funciones"
   ]
  },
  {
   "cell_type": "code",
   "execution_count": 15,
   "metadata": {},
   "outputs": [],
   "source": [
    "from herramientas_nuevas import *"
   ]
  },
  {
   "cell_type": "code",
   "execution_count": 21,
   "metadata": {},
   "outputs": [],
   "source": [
    "h3 = Herramientas([1,1,2,3,5,6,8,8])"
   ]
  },
  {
   "cell_type": "code",
   "execution_count": 22,
   "metadata": {},
   "outputs": [
    {
     "name": "stdout",
     "output_type": "stream",
     "text": [
      "el elemento 1 SI es número primo\n",
      "el elemento 1 SI es número primo\n",
      "el elemento 2 SI es número primo\n",
      "el elemento 3 SI es número primo\n",
      "el elemento 5 SI es número primo\n",
      "el elemento 6 NO es número primo\n",
      "el elemento 8 NO es número primo\n",
      "el elemento 8 NO es número primo\n"
     ]
    }
   ],
   "source": [
    "h3.es_numero_primo()"
   ]
  },
  {
   "cell_type": "code",
   "execution_count": 23,
   "metadata": {},
   "outputs": [
    {
     "name": "stdout",
     "output_type": "stream",
     "text": [
      "el factorial de  1 es  1\n",
      "el factorial de  1 es  1\n",
      "el factorial de  2 es  2\n",
      "el factorial de  3 es  6\n",
      "el factorial de  5 es  120\n",
      "el factorial de  6 es  720\n",
      "el factorial de  8 es  40320\n",
      "el factorial de  8 es  40320\n"
     ]
    }
   ],
   "source": [
    "h3.factorial()"
   ]
  },
  {
   "cell_type": "code",
   "execution_count": 25,
   "metadata": {},
   "outputs": [],
   "source": [
    "import herramientas_nuevas as hn"
   ]
  },
  {
   "cell_type": "code",
   "execution_count": 26,
   "metadata": {},
   "outputs": [],
   "source": [
    "h4 = hn.Herramientas([1,1,2,3,5,6,8,8])\n"
   ]
  }
 ],
 "metadata": {
  "interpreter": {
   "hash": "c85384e4cb51c8b72350f3a8712cc8351fdc3955e32a27f9b60c6242ab125f01"
  },
  "kernelspec": {
   "display_name": "Python 3 (ipykernel)",
   "language": "python",
   "name": "python3"
  },
  "language_info": {
   "codemirror_mode": {
    "name": "ipython",
    "version": 3
   },
   "file_extension": ".py",
   "mimetype": "text/x-python",
   "name": "python",
   "nbconvert_exporter": "python",
   "pygments_lexer": "ipython3",
   "version": "3.10.11"
  }
 },
 "nbformat": 4,
 "nbformat_minor": 4
}
