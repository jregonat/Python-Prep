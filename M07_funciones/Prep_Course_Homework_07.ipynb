{
 "cells": [
  {
   "attachments": {},
   "cell_type": "markdown",
   "metadata": {},
   "source": [
    "## Funciones"
   ]
  },
  {
   "attachments": {},
   "cell_type": "markdown",
   "metadata": {},
   "source": [
    "1) Crear una función que reciba un número como parámetro y devuelva True si es primo y False si no lo es"
   ]
  },
  {
   "cell_type": "code",
   "execution_count": 33,
   "metadata": {},
   "outputs": [],
   "source": [
    "def es_numero_primo(num):\n",
    "    primo = True\n",
    "    for i in range(2, num):\n",
    "        if (num % i == 0):\n",
    "            primo = False\n",
    "            break\n",
    "    return primo\n"
   ]
  },
  {
   "cell_type": "code",
   "execution_count": 34,
   "metadata": {},
   "outputs": [
    {
     "data": {
      "text/plain": [
       "True"
      ]
     },
     "execution_count": 34,
     "metadata": {},
     "output_type": "execute_result"
    }
   ],
   "source": [
    "es_numero_primo(5)"
   ]
  },
  {
   "attachments": {},
   "cell_type": "markdown",
   "metadata": {},
   "source": [
    "2) Utilizando la función del punto 1, realizar otra función que reciba de parámetro una lista de números y devuelva sólo aquellos que son primos en otra lista"
   ]
  },
  {
   "cell_type": "code",
   "execution_count": 35,
   "metadata": {},
   "outputs": [],
   "source": [
    "def extrae_primo(lista):\n",
    "    lista_primo = []\n",
    "    if len(lista) > 0:\n",
    "        for elemento in lista:\n",
    "            if es_numero_primo(elemento):\n",
    "                lista_primo.append(elemento)\n",
    "    return lista_primo"
   ]
  },
  {
   "cell_type": "code",
   "execution_count": 36,
   "metadata": {},
   "outputs": [
    {
     "data": {
      "text/plain": [
       "[1, 2, 3, 5, 7, 11, 13, 17, 19]"
      ]
     },
     "execution_count": 36,
     "metadata": {},
     "output_type": "execute_result"
    }
   ],
   "source": [
    "lista_completa = [1,2,3,4,5,6,7,8,9,10,11,12,13,14,15,16,17,18,19,20]\n",
    "extrae_primo(lista_completa)"
   ]
  },
  {
   "attachments": {},
   "cell_type": "markdown",
   "metadata": {},
   "source": [
    "3) Crear una función que al recibir una lista de números, devuelva el que más se repite y cuántas veces lo hace. Si hay más de un \"más repetido\", que devuelva cualquiera"
   ]
  },
  {
   "cell_type": "code",
   "execution_count": 37,
   "metadata": {},
   "outputs": [],
   "source": [
    "def numero_mas_repetido(lista):\n",
    "    contador = {}\n",
    "    for num in lista:\n",
    "        if num in contador.keys():\n",
    "            contador[num] += 1\n",
    "        else:\n",
    "            contador[num] = 1\n",
    "    maximo_repeticion = 0\n",
    "    mas_repetido = None\n",
    "\n",
    "    for num, repeticion in contador. items():\n",
    "        if repeticion > maximo_repeticion:\n",
    "            maximo_repeticion = repeticion\n",
    "            mas_repetido = num\n",
    "    return mas_repetido, maximo_repeticion\n",
    "        "
   ]
  },
  {
   "cell_type": "code",
   "execution_count": 38,
   "metadata": {},
   "outputs": [
    {
     "data": {
      "text/plain": [
       "(5, 3)"
      ]
     },
     "execution_count": 38,
     "metadata": {},
     "output_type": "execute_result"
    }
   ],
   "source": [
    "lis = [1,1,5,6,8,10,22,5,6,4,11,9,5]\n",
    "numero_mas_repetido(lis)"
   ]
  },
  {
   "cell_type": "code",
   "execution_count": 39,
   "metadata": {},
   "outputs": [],
   "source": [
    "lis = [1,1,5,6,8,10,22,5,6,4,11,9,5]"
   ]
  },
  {
   "cell_type": "code",
   "execution_count": 40,
   "metadata": {},
   "outputs": [],
   "source": [
    "def valor_mas_repetido(lista):\n",
    "    lista_unicos = []\n",
    "    lista_repetidos = []\n",
    "    if len(lis) == 0:\n",
    "        return None\n",
    "    for elemento in lista:\n",
    "        if elemento in lista_unicos:\n",
    "            i = lista_unicos.index(elemento)\n",
    "            lista_repetidos[i] += 1\n",
    "        else:\n",
    "            lista_unicos.append(elemento)\n",
    "            lista_repetidos.append(1)\n",
    "    unicos = lista_unicos[0]\n",
    "    maximo = lista_repetidos[0]\n",
    "    for i , elemento in enumerate(lista_unicos):\n",
    "        if lista_repetidos[i] > maximo:\n",
    "            unicos = lista_unicos[i]\n",
    "            maximo = lista_repetidos[i]\n",
    "    return unicos, maximo\n",
    "\n",
    "    "
   ]
  },
  {
   "cell_type": "code",
   "execution_count": 41,
   "metadata": {},
   "outputs": [
    {
     "data": {
      "text/plain": [
       "(5, 3)"
      ]
     },
     "execution_count": 41,
     "metadata": {},
     "output_type": "execute_result"
    }
   ],
   "source": [
    "lis = [1,1,5,6,8,10,22,5,6,4,11,9,5]\n",
    "valor_mas_repetido(lis)"
   ]
  },
  {
   "attachments": {},
   "cell_type": "markdown",
   "metadata": {},
   "source": [
    "4) Crear una función que convierta entre grados Celsius, Farenheit y Kelvin<br>\n",
    "Fórmula 1\t: (°C × 9/5) + 32 = °F<br>\n",
    "Fórmula 2\t: °C + 273.15 = °K<br>\n",
    "Debe recibir 3 parámetros: el valor, la medida de orígen y la medida de destino\n"
   ]
  },
  {
   "cell_type": "code",
   "execution_count": 42,
   "metadata": {},
   "outputs": [],
   "source": [
    "def conversion_grados(valor, origen, destino):\n",
    "    if origen == \"celsius\":\n",
    "        if destino == \"celsius\":\n",
    "            valor_destino = valor\n",
    "        elif destino == \"farenheit\":\n",
    "            valor_destino = (valor * 9 /5) + 32\n",
    "        elif destino == \"kelvin\":\n",
    "            valor_destino = valor * 273.15\n",
    "        else:\n",
    "            print(\"Parámetro de destino incorrecto\")\n",
    "    elif origen == \"farenheit\":\n",
    "        if destino == \"celsius\":\n",
    "            valor_destino = (valor - 32) * 5 / 9\n",
    "        elif destino == \"farenheit\":\n",
    "            valor_destino = valor\n",
    "        elif destino == \"kelvin\":\n",
    "            valor_destino = ((valor - 32) * 5 / 9) +273.15\n",
    "        else:\n",
    "            print(\"Parámetro de destino incorrecto\")\n",
    "    elif origen == \"kelvin\":\n",
    "        if destino == \"celsius\":\n",
    "            valor_destino = valor - 273.15\n",
    "        elif destino == \"farenheit\":\n",
    "            valor_destino = ((valor - 273.15) * 9 / 5) + 32\n",
    "        elif destino == \"kelvin\":\n",
    "            valor_destino = valor\n",
    "        else:\n",
    "            print(\"Parámetro de Destino incorrecto\")\n",
    "    else:\n",
    "        print(\"Parámetro de Origen incorrecto\")  \n",
    "             \n",
    "    return valor_destino"
   ]
  },
  {
   "cell_type": "code",
   "execution_count": 43,
   "metadata": {},
   "outputs": [
    {
     "name": "stdout",
     "output_type": "stream",
     "text": [
      "1 grado Celsius a Celsius: 1\n",
      "1 grado Celsius a Kelvin: 273.15\n",
      "1 grado Celsius a Farenheit: 33.8\n",
      "1 grado Kelvin a Celsius: -272.15\n",
      "1 grado Kelvin a Kelvin: 1\n",
      "1 grado Kelvin a Farenheit: -457.87\n",
      "1 grado Farenheit a Celsius: -17.22222222222222\n",
      "1 grado Farenheit a Kelvin: 255.92777777777775\n",
      "1 grado Farenheit a Farenheit: 1\n"
     ]
    }
   ],
   "source": [
    "\n",
    "print(\"1 grado Celsius a Celsius:\", conversion_grados(1, \"celsius\", \"celsius\"))\n",
    "print(\"1 grado Celsius a Kelvin:\" ,  conversion_grados(1, \"celsius\", \"kelvin\"))\n",
    "print(\"1 grado Celsius a Farenheit:\", conversion_grados(1, \"celsius\", \"farenheit\"))\n",
    "print(\"1 grado Kelvin a Celsius:\", conversion_grados(1, \"kelvin\", \"celsius\"))\n",
    "print(\"1 grado Kelvin a Kelvin:\", conversion_grados(1, \"kelvin\", \"kelvin\"))\n",
    "print(\"1 grado Kelvin a Farenheit:\", conversion_grados(1, \"kelvin\", \"farenheit\"))\n",
    "print(\"1 grado Farenheit a Celsius:\", conversion_grados(1, \"farenheit\", \"celsius\"))\n",
    "print(\"1 grado Farenheit a Kelvin:\", conversion_grados(1, \"farenheit\", \"kelvin\"))\n",
    "print(\"1 grado Farenheit a Farenheit:\", conversion_grados(1, \"farenheit\", \"farenheit\"))"
   ]
  },
  {
   "attachments": {},
   "cell_type": "markdown",
   "metadata": {},
   "source": [
    "5) Iterando una lista con los tres valores posibles de temperatura que recibe la función del punto 5, hacer un print para cada combinación de los mismos:"
   ]
  },
  {
   "cell_type": "code",
   "execution_count": 44,
   "metadata": {},
   "outputs": [
    {
     "name": "stdout",
     "output_type": "stream",
     "text": [
      "20 grados celsius conversion a celsius son 20 grados\n",
      "20 grados celsius conversion a kelvin son 5463.0 grados\n",
      "20 grados celsius conversion a farenheit son 68.0 grados\n",
      "20 grados kelvin conversion a celsius son -253.14999999999998 grados\n",
      "20 grados kelvin conversion a kelvin son 20 grados\n",
      "20 grados kelvin conversion a farenheit son -423.66999999999996 grados\n",
      "20 grados farenheit conversion a celsius son -6.666666666666667 grados\n",
      "20 grados farenheit conversion a kelvin son 266.4833333333333 grados\n",
      "20 grados farenheit conversion a farenheit son 20 grados\n"
     ]
    }
   ],
   "source": [
    "unidades = [\"celsius\", \"kelvin\", \"farenheit\"]\n",
    "temperatura = 20\n",
    "for i in unidades:\n",
    "    for j in unidades:\n",
    "        conversion = conversion_grados(temperatura, i, j)\n",
    "        print(f\"{temperatura} grados {i} conversion a {j} son {conversion} grados\")\n"
   ]
  },
  {
   "attachments": {},
   "cell_type": "markdown",
   "metadata": {},
   "source": [
    "6) Armar una función que devuelva el factorial de un número. Tener en cuenta que el usuario puede equivocarse y enviar de parámetro un número no entero o negativo"
   ]
  },
  {
   "cell_type": "code",
   "execution_count": 45,
   "metadata": {},
   "outputs": [],
   "source": [
    "def factorial(numero):\n",
    "    if type(numero) != int or numero < 0:\n",
    "        return None\n",
    "    if numero <= 1:\n",
    "        return 1\n",
    "    numero = numero * factorial(numero -1)\n",
    "    return numero\n",
    "\n",
    "\n",
    "            "
   ]
  },
  {
   "cell_type": "code",
   "execution_count": 46,
   "metadata": {},
   "outputs": [
    {
     "data": {
      "text/plain": [
       "120"
      ]
     },
     "execution_count": 46,
     "metadata": {},
     "output_type": "execute_result"
    }
   ],
   "source": [
    "factorial(5)"
   ]
  }
 ],
 "metadata": {
  "interpreter": {
   "hash": "c85384e4cb51c8b72350f3a8712cc8351fdc3955e32a27f9b60c6242ab125f01"
  },
  "kernelspec": {
   "display_name": "Python 3 (ipykernel)",
   "language": "python",
   "name": "python3"
  },
  "language_info": {
   "codemirror_mode": {
    "name": "ipython",
    "version": 3
   },
   "file_extension": ".py",
   "mimetype": "text/x-python",
   "name": "python",
   "nbconvert_exporter": "python",
   "pygments_lexer": "ipython3",
   "version": "3.10.11"
  }
 },
 "nbformat": 4,
 "nbformat_minor": 4
}
